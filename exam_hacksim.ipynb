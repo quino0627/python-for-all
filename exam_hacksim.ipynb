{
 "cells": [
  {
   "cell_type": "markdown",
   "metadata": {},
   "source": [
    "- markdown 기본 문법\n",
    "    - #~###### : heading\n",
    "    - --- : horizontal rule\n",
    "    - https://www.daum.net \n",
    "    - **문근영 예쁘다**\n",
    "    - *문근영*예쁘다\n",
    "    - ~~문근영~~"
   ]
  },
  {
   "cell_type": "markdown",
   "metadata": {},
   "source": [
    "- 나누기\n",
    "    - / 그냥\n",
    "    - // 몫만\n",
    "    - % 나머지만\n",
    "- 제곱 **"
   ]
  },
  {
   "cell_type": "markdown",
   "metadata": {},
   "source": [
    "# 자료구조 정리\n",
    "identity(메모리), type(int - 정수형, float - 부동소수, complex - 복소수, bool - 참거짓) , value(type의 값)\n",
    "\n",
    "#### 리터럴 - 구분할 수 있도록 쓰는 방법 (<->인스턴스)\n",
    "\n",
    "- int\n",
    "    - 어떤 기호도 필요 없음\n",
    "    - 표현 방법\n",
    "        - a = 0b1 (0B1) 2진법\n",
    "        - a = 0o07 8진법\n",
    "        - a = 0x06 16진법\n",
    "        - a = 16 10진법\n",
    "- float\n",
    "    - 리터럴 : . x = .3, 3e10 이것도 float\n",
    "    - 부동소수\n",
    "    - nan(not a number)\n",
    "    - 무한대(inf)\n",
    "- bool\n",
    "    - True //1\n",
    "    - False //0\n",
    "- 문자열\n",
    "    - str (유니코드)\n",
    "    - bytes - b'abc' (ASCII) 라틴계열\n",
    "    - bytearray x = bytearray()\n",
    "    - 문자열 + int **X**\n",
    "    - 문자열 * int(or Bool) **O**\n",
    "    - 문자열 + 문자열 **O**\n",
    "    - 대소비교 ('a'<'A' False)\n",
    "        - 앞 단어부터 비교\n",
    "- list\n",
    "    - 마지막에 콤마 가능\n",
    "    - [1,2,3,4,]\n",
    "- tuple\n",
    "    - asdf\n",
    "- dictionary\n",
    "    - keys, values, items\n",
    "    - items는 key-value를 튜플로 묶고 리스트로 출력한다.\n",
    "    - b = dict(a=3,b=2,z='a')\n",
    "- set\n",
    "    - 리터럴 방식으로 비어있는 셋을 만들 수 없다 --> instance방식 사용\n",
    "    - 중복과 순서가 없음\n",
    "    - iterable을 set에 넣으면 하나씩 분해해서 넣음\n",
    "## sequence  \n",
    "- Sequence type은 Iterable type을 상속받는다\n",
    "- indexing\n",
    "- slicing\n",
    "    - 범위를 초과해도 error 나지 않음\n",
    "    - 앞 생략시 처음부터, 뒤 생략시 마지막까지\n",
    "    - a[::2] 두개씩\n",
    "    - a[::-1]뒤에서부터\n",
    "- for\n",
    "- in/not in 다음에 쓸 수 있다\n",
    "- sequence인 것들 6가지??\n",
    "    - list\n",
    "    - tuple\n",
    "    - range\n",
    "    - str\n",
    "    - byte\n",
    "    - bytearray\n",
    "    \n",
    "## mutable/immutable\n",
    "- mutable : 가변, append, remove, clear 등등 4가지가있다?\n",
    "    - list\n",
    "    - bytearray\n",
    "    - set\n",
    "    - dictionary\n",
    "- immutable\n",
    "    - tuple\n",
    "\n",
    "## Iterable 순회하여 하나씩 뽑아낼 수 있는 것\n",
    "- Sequence type은 Iterable type을 상속받는다\n",
    "- Iterable인 것들\n",
    "    - list\n",
    "    - tuple\n",
    "    - range\n",
    "    - str\n",
    "    - byte\n",
    "    - bytearray\n",
    "    - dictionary\n",
    "    \n",
    "\n",
    "### id(), type(), dir()\n",
    "\n",
    "### membership\n",
    "- in, not in\n"
   ]
  },
  {
   "cell_type": "code",
   "execution_count": 3,
   "metadata": {},
   "outputs": [
    {
     "name": "stdout",
     "output_type": "stream",
     "text": [
      "<class 'int'>\n",
      "<class 'bool'>\n",
      "<class 'complex'>\n",
      "<class 'float'>\n"
     ]
    }
   ],
   "source": [
    "print(type(0))\n",
    "print(type(True))\n",
    "print(type(2j))\n",
    "print(type(0.1))"
   ]
  },
  {
   "cell_type": "code",
   "execution_count": 4,
   "metadata": {},
   "outputs": [],
   "source": [
    "a = 1 # 1을 a 라고 이름 붙이는 것 -- 할당"
   ]
  },
  {
   "cell_type": "markdown",
   "metadata": {},
   "source": [
    "## 이름 명명하기\n",
    "\n",
    "- 할당 assignment\n",
    "- 왼쪽은 identifier 오른쪽은 값\n",
    "- 영문자 사용\n",
    "- 첫 번째 숫자 x\n",
    "- 키워드 사용할 수 없음\n",
    "```python\n",
    "import keyword\n",
    "dir(keyword)\n",
    "keyword.kwlist\n",
    " ```\n",
    " ## 할당하는 방법 (7가지) unpacking?\n",
    " - a = b = 1 과 a = 1 b = 1은 다름\n",
    " - a,\\*b = 1,2,3,4  \\*는 나머지를 뜻함\n",
    " - a,b = 1,2(쪼개서 들어가지는 것 : UNPACKING)"
   ]
  },
  {
   "cell_type": "markdown",
   "metadata": {},
   "source": [
    "- any() : 하나라도 참이 있으면 참 반환\n",
    "- all() : 모두 참일 경우에 참"
   ]
  },
  {
   "cell_type": "markdown",
   "metadata": {},
   "source": [
    "## 함수\n",
    "\n",
    "- 6가지 형식이 있음 (shift tab)\n",
    "    - positional방식 - 차례대로 넣는 것\n",
    "    - keyword 방식\n",
    "        - xadd(b=3, a=1) 키워드 방식\n",
    "   - 가변방식 \\* 갯수 상관없음(안넣어도됨)\n",
    "   - \\*\\* 딕셔너리 '='\n",
    "   - positional onlt (\\)\n",
    "   - keyword only\n",
    "```python\n",
    "def y(a,b,c,d):\n",
    "    return a,b\n",
    "y(1,2,3,4)\n",
    " ```\n",
    " \n",
    " - 이것은 여러개를 리턴하는 것이 아닌 튜플로 리턴하는것이다.\n",
    " - shift+tab을 봤을 때\n",
    "     - 별표 하나는 가변크기 --> 무한히 넣을 수 있음 안넣어도 됨\n",
    "     - kw 는 kwyword의 줄임말이다. \n",
    "     - \\*args는 가변 argument를 의미하고, \\*\\*kwargs의 경우 개수가 정해지지 않은 keyword 방식"
   ]
  },
  {
   "cell_type": "code",
   "execution_count": 4,
   "metadata": {},
   "outputs": [
    {
     "data": {
      "text/plain": [
       "{'a': 1, 'b': 'aaa'}"
      ]
     },
     "execution_count": 4,
     "metadata": {},
     "output_type": "execute_result"
    }
   ],
   "source": [
    "def z(**a):\n",
    "    return a\n",
    "z(a=1,b='aaa')"
   ]
  },
  {
   "cell_type": "markdown",
   "metadata": {},
   "source": [
    "output이 dictionary!"
   ]
  },
  {
   "cell_type": "markdown",
   "metadata": {},
   "source": [
    "# 숙제"
   ]
  },
  {
   "cell_type": "markdown",
   "metadata": {},
   "source": [
    "```\n",
    "□ variable(변수)보다 왜 identifier(식별자 or name)라고 하는지?\n",
    "□ constant(상수)와 variable의 차이는?\n",
    "□ identifier를 명명하는 규칙은? \n",
    "□ 선언(Declaration)과 할당(Assignment)이란?\n",
    "□ statement(문)와 expression이란?\n",
    "□ = (할당)을 하는 방법\n",
    "□ = 을 했을 때, Python 내부에서 일어나는 일은?\n",
    "□ dynamic typing이란?\n",
    "□ literal 이란?\n",
    "□ literal을 통해서 value(값)을 생성하는 것과 instance화해서 value를 생성하는 것이 차이나는 type은?\n",
    "```"
   ]
  },
  {
   "cell_type": "markdown",
   "metadata": {},
   "source": [
    "   - 변수보다 왜 식별자라고 하는가?\n",
    "       - 파이썬은 모든 것이 객체이므로 변수보다는 식별자라고 한다.\n",
    "   - constant 는 immutable이고 variable은 mutable\n",
    "   - identifier 명명 규칙\n",
    "       - 첫 글자는 숫자 안됨. 두번째글자부터 숫자 가능\n",
    "       - 유니코드로도 변수이름을 지을 수 있지만 사용하지 말 것\n",
    "       - _ 로 시작하지 말 것(파이썬에서는 다른 의미를 가짐)\n",
    "       - 두단어 이상을 붙일 때는 camelCase표기법을 사용\n",
    "       -  예약어로 변수명을 사용할 수 없다.\n",
    "       - = 사이에 빈 칸을 하나씩 둘 것\n",
    "   - 선언과 할당이란\n",
    "       - 선언은 재사용이 가능한 독립적인 단위를 정의하는 것\n",
    "       - 할당은 identifier과 value를 binding하는 것\n",
    "   - statement와 expression이란\n",
    "       - expresstion : 값들과 연산자를 함께 사용해서 표현한 것\n",
    "       - statement : 예약어와 표현식을 결합한 패턴\n",
    "   - 할당을 하는 방법\n",
    "       - Simple assignment\n",
    "       - Assignment of single value to multiple targets\n",
    "       - Assignment of multiple values to multiple targets\n",
    "       - Augmented assignment\n",
    "       - Global assignment from with a function\n",
    "   - =을 했을 때 파이썬 내부에서 일어나는 일은?\n",
    "       - 값에 identifier를 이름 붙임\n",
    "   - dynamic typing이란?\n",
    "       - 실행하는 시점에서 변수의 타입을 고려하는 방식\n",
    "   - literal이란?\n",
    "       - 값, 기호로 고정된 값을 대표하는 것, 간단하게 값을 생성할 수 있다.\n",
    "   - literal을 통해서 value을 생성하는 것과 instance화해서 value를 생성하는 것이 차이나는 type은?\n",
    "       - dictionary 타입"
   ]
  },
  {
   "cell_type": "markdown",
   "metadata": {},
   "source": [
    "| type | mutable | sequence | iterable | 리터럴방식|\n",
    "|------|------|------|------|\n",
    "| int | X | X | X | O|\n",
    "| float| X | X | X |O|\n",
    "| bool | X | X | X | O|\n",
    "| list | O | O | O | O|\n",
    "| tuple | X | O | O | O|\n",
    "| str | X | O | O | O |\n",
    "| bytes | X | O | O | O|\n",
    "| bytearray | O | O | O |O| \n",
    "|set|O|X|O|X|\n",
    "|frozenset|X|\n",
    "|dict|O|X|O?|O|\n",
    "|Range||||없음|"
   ]
  },
  {
   "cell_type": "markdown",
   "metadata": {},
   "source": [
    "collection\n",
    "    - str\n",
    "    - bytes\n",
    "    - bytearray(mutable)"
   ]
  }
 ],
 "metadata": {
  "kernelspec": {
   "display_name": "Python 3",
   "language": "python",
   "name": "python3"
  },
  "language_info": {
   "codemirror_mode": {
    "name": "ipython",
    "version": 3
   },
   "file_extension": ".py",
   "mimetype": "text/x-python",
   "name": "python",
   "nbconvert_exporter": "python",
   "pygments_lexer": "ipython3",
   "version": "3.6.5"
  }
 },
 "nbformat": 4,
 "nbformat_minor": 2
}

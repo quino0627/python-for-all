{
 "cells": [
  {
   "cell_type": "markdown",
   "metadata": {},
   "source": [
    "![a](https://matplotlib.org/_images/anatomy.png)"
   ]
  },
  {
   "cell_type": "code",
   "execution_count": 2,
   "metadata": {},
   "outputs": [],
   "source": [
    "%matplotlib inline"
   ]
  },
  {
   "cell_type": "code",
   "execution_count": 73,
   "metadata": {},
   "outputs": [],
   "source": [
    "import matplotlib.font_manager as fm\n",
    "font_list = fm.fontManager.ttflist"
   ]
  },
  {
   "cell_type": "code",
   "execution_count": 74,
   "metadata": {},
   "outputs": [
    {
     "data": {
      "text/plain": [
       "[<Font 'DejaVu Sans' (DejaVuSans-BoldOblique.ttf) oblique normal bold normal>,\n",
       " <Font 'STIXSizeFourSym' (STIXSizFourSymBol.ttf) normal normal bold normal>,\n",
       " <Font 'DejaVu Sans Mono' (DejaVuSansMono.ttf) normal normal 400 normal>,\n",
       " <Font 'DejaVu Sans Mono' (DejaVuSansMono-BoldOblique.ttf) oblique normal bold normal>,\n",
       " <Font 'STIXNonUnicode' (STIXNonUniBol.ttf) normal normal bold normal>,\n",
       " <Font 'STIXSizeFourSym' (STIXSizFourSymReg.ttf) normal normal regular normal>,\n",
       " <Font 'STIXNonUnicode' (STIXNonUniIta.ttf) italic normal 400 normal>,\n",
       " <Font 'STIXSizeThreeSym' (STIXSizThreeSymBol.ttf) normal normal bold normal>,\n",
       " <Font 'DejaVu Sans Display' (DejaVuSansDisplay.ttf) normal normal 400 normal>,\n",
       " <Font 'DejaVu Serif' (DejaVuSerif-Bold.ttf) normal normal bold normal>,\n",
       " <Font 'DejaVu Sans' (DejaVuSans-Oblique.ttf) oblique normal 400 normal>,\n",
       " <Font 'STIXSizeThreeSym' (STIXSizThreeSymReg.ttf) normal normal regular normal>,\n",
       " <Font 'cmr10' (cmr10.ttf) normal normal 400 normal>,\n",
       " <Font 'DejaVu Sans Mono' (DejaVuSansMono-Bold.ttf) normal normal bold normal>,\n",
       " <Font 'DejaVu Sans Mono' (DejaVuSansMono-Oblique.ttf) oblique normal 400 normal>,\n",
       " <Font 'STIXGeneral' (STIXGeneral.ttf) normal normal regular normal>,\n",
       " <Font 'STIXSizeTwoSym' (STIXSizTwoSymReg.ttf) normal normal regular normal>,\n",
       " <Font 'STIXSizeOneSym' (STIXSizOneSymBol.ttf) normal normal bold normal>,\n",
       " <Font 'STIXGeneral' (STIXGeneralBol.ttf) normal normal bold normal>,\n",
       " <Font 'STIXSizeOneSym' (STIXSizOneSymReg.ttf) normal normal regular normal>,\n",
       " <Font 'STIXSizeTwoSym' (STIXSizTwoSymBol.ttf) normal normal bold normal>,\n",
       " <Font 'cmsy10' (cmsy10.ttf) normal normal 400 normal>,\n",
       " <Font 'cmb10' (cmb10.ttf) normal normal 400 normal>,\n",
       " <Font 'cmmi10' (cmmi10.ttf) normal normal 400 normal>,\n",
       " <Font 'DejaVu Sans' (DejaVuSans-Bold.ttf) normal normal bold normal>,\n",
       " <Font 'cmtt10' (cmtt10.ttf) normal normal 400 normal>,\n",
       " <Font 'STIXGeneral' (STIXGeneralBolIta.ttf) italic normal bold normal>,\n",
       " <Font 'DejaVu Serif' (DejaVuSerif-BoldItalic.ttf) italic normal bold normal>,\n",
       " <Font 'cmss10' (cmss10.ttf) normal normal 400 normal>,\n",
       " <Font 'DejaVu Serif Display' (DejaVuSerifDisplay.ttf) normal normal 400 normal>,\n",
       " <Font 'DejaVu Sans' (DejaVuSans.ttf) normal normal 400 normal>,\n",
       " <Font 'STIXNonUnicode' (STIXNonUni.ttf) normal normal regular normal>,\n",
       " <Font 'STIXGeneral' (STIXGeneralItalic.ttf) italic normal 400 normal>,\n",
       " <Font 'cmex10' (cmex10.ttf) normal normal 400 normal>,\n",
       " <Font 'DejaVu Serif' (DejaVuSerif-Italic.ttf) italic normal 400 normal>,\n",
       " <Font 'STIXSizeFiveSym' (STIXSizFiveSymReg.ttf) normal normal regular normal>,\n",
       " <Font 'DejaVu Serif' (DejaVuSerif.ttf) normal normal 400 normal>,\n",
       " <Font 'STIXNonUnicode' (STIXNonUniBolIta.ttf) italic normal bold normal>,\n",
       " <Font 'STIXSizeThreeSym' (STIXSizThreeSymReg.otf) normal normal regular normal>,\n",
       " <Font 'Luxi Sans' (luxisri.ttf) oblique normal 400 normal>,\n",
       " <Font '.SF Compact Text' (SFCompactText-Heavy.otf) normal normal 400 normal>,\n",
       " <Font 'Estrangelo Edessa' (SyrCOMEdessa.otf) normal normal 400 normal>,\n",
       " <Font 'Verdana' (Verdana Bold Italic.ttf) italic normal bold normal>,\n",
       " <Font '.SF Compact Rounded' (SFCompactRounded-Regular.otf) normal normal 400 normal>,\n",
       " <Font 'Serto Urhoy' (SyrCOMUrhoyBold.otf) normal normal bold normal>,\n",
       " <Font 'Serto Mardin' (SyrCOMMardinBold.otf) normal normal bold normal>,\n",
       " <Font 'Luxi Mono' (luximb.ttf) normal normal bold normal>,\n",
       " <Font 'Serto Malankara' (SyrCOMMalankara.otf) normal normal 400 normal>,\n",
       " <Font 'Trebuchet MS' (Trebuchet MS Italic.ttf) italic normal 400 normal>,\n",
       " <Font '.SF NS Text Condensed' (SFNSTextCondensed-Bold.otf) normal normal 400 normal>,\n",
       " <Font '.SF Compact Text' (SFCompactText-Semibold.otf) normal normal 400 normal>,\n",
       " <Font 'Estrangelo Antioch' (SyrCOMAntioch.otf) normal normal 400 normal>,\n",
       " <Font 'Wingdings 3' (Wingdings 3.ttf) normal normal 400 normal>,\n",
       " <Font '.SF Compact Rounded' (SFCompactRounded-Medium.otf) normal normal 400 normal>,\n",
       " <Font 'Bitstream Vera Sans' (VeraBd.ttf) normal normal bold normal>,\n",
       " <Font 'Bitstream Vera Sans' (VeraBI.ttf) oblique normal bold normal>,\n",
       " <Font 'East Syriac Adiabene' (SyrCOMAdiabene.otf) normal normal 400 normal>,\n",
       " <Font 'Symbol' (Symbol.ttf) normal normal 400 normal>,\n",
       " <Font 'STIXGeneral' (STIXGeneralItalic.otf) italic normal 400 normal>,\n",
       " <Font '.SF Compact Rounded' (SFCompactRounded-Light.otf) normal normal 400 normal>,\n",
       " <Font 'Luxi Serif' (luxirbi.ttf) oblique normal bold normal>,\n",
       " <Font '.SF Compact Display' (SFCompactDisplay-Light.otf) normal normal 400 normal>,\n",
       " <Font 'TSTMovRE' (태-영화동판체.otf) normal normal 400 normal>,\n",
       " <Font 'Serto Jerusalem Outline' (SyrCOMJerusalemOutline.otf) normal normal 400 normal>,\n",
       " <Font 'Estrangelo Nisibin Outline' (SyrCOMNisibinOutline.otf) normal normal 400 normal>,\n",
       " <Font 'Luxi Mono' (luximri.ttf) oblique normal 400 normal>,\n",
       " <Font 'STIXIntegralsUp' (STIXIntUpBol.otf) normal normal bold normal>,\n",
       " <Font 'STIXVariants' (STIXVar.otf) normal normal regular normal>,\n",
       " <Font 'Chalkduster' (Chalkduster.ttf) normal normal 400 normal>,\n",
       " <Font '.SF NS Display Condensed' (SFNSDisplayCondensed-Regular.otf) normal normal 400 normal>,\n",
       " <Font 'Luxi Serif' (luxirb.ttf) normal normal bold normal>,\n",
       " <Font 'Apple Symbols' (Apple Symbols.ttf) normal normal 400 normal>,\n",
       " <Font '.SF NS Display Condensed' (SFNSDisplayCondensed-Medium.otf) normal normal 400 normal>,\n",
       " <Font 'Luxi Mono' (luximbi.ttf) oblique normal bold normal>,\n",
       " <Font 'AppleMyungjo' (AppleMyungjo.ttf) normal normal regular normal>,\n",
       " <Font '.SF NS Text Condensed' (SFNSTextCondensed-Semibold.otf) normal normal 400 normal>,\n",
       " <Font 'STIXNonUnicode' (STIXNonUniIta.otf) italic normal 400 normal>,\n",
       " <Font 'Arial Rounded MT Bold' (Arial Rounded Bold.ttf) normal normal bold normal>,\n",
       " <Font '.SF Compact Text' (SFCompactText-MediumItalic.otf) normal normal 400 normal>,\n",
       " <Font '.SF Compact Text' (SFCompactText-Bold.otf) normal normal 400 normal>,\n",
       " <Font 'Luxi Sans' (luxisr.ttf) normal normal regular normal>,\n",
       " <Font 'Luxi Serif' (luxirr.ttf) normal normal regular normal>,\n",
       " <Font 'Courier New' (Courier New.ttf) normal normal 400 normal>,\n",
       " <Font 'East Syriac Ctesiphon' (SyrCOMCtesiphon.otf) normal normal 400 normal>,\n",
       " <Font 'Serto Jerusalem' (SyrCOMJerusalem.otf) normal normal 400 normal>,\n",
       " <Font 'Kokonor' (Kokonor.ttf) normal normal regular normal>,\n",
       " <Font 'Luxi Sans' (luxisb.ttf) normal normal bold normal>,\n",
       " <Font 'STIXIntegralsUpD' (STIXIntUpDReg.otf) normal normal regular normal>,\n",
       " <Font 'STIXIntegralsUpD' (STIXIntUpDBol.otf) normal normal bold normal>,\n",
       " <Font '.SF Compact Rounded' (SFCompactRounded-Ultralight.otf) normal normal 400 normal>,\n",
       " <Font 'Hoefler Text' (Hoefler Text Ornaments.ttf) normal normal 400 normal>,\n",
       " <Font '.SF NS Display Condensed' (SFNSDisplayCondensed-Semibold.otf) normal normal 400 normal>,\n",
       " <Font 'Gurmukhi MT' (Gurmukhi.ttf) normal normal 400 normal>,\n",
       " <Font 'System Font' (SFNSSymbols-Regular.otf) normal normal 400 normal>,\n",
       " <Font 'TSTMovRO' (태-영화체.otf) normal normal 400 normal>,\n",
       " <Font 'Luxi Sans' (luxisbi.ttf) oblique normal bold normal>,\n",
       " <Font '.SF Compact Text' (SFCompactText-RegularItalic.otf) normal normal 400 normal>,\n",
       " <Font 'Bitstream Vera Sans Mono' (VeraMono.ttf) normal normal 400 normal>,\n",
       " <Font 'Trebuchet MS' (Trebuchet MS.ttf) normal normal 400 normal>,\n",
       " <Font 'Trebuchet MS' (Trebuchet MS Bold Italic.ttf) italic normal bold normal>,\n",
       " <Font 'STIXIntegralsSm' (STIXIntSmReg.otf) normal normal regular normal>,\n",
       " <Font 'STIXIntegralsD' (STIXIntDBol.otf) normal normal bold normal>,\n",
       " <Font '.SF NS Display Condensed' (SFNSDisplayCondensed-Bold.otf) normal normal 400 normal>,\n",
       " <Font '.SF Compact Display' (SFCompactDisplay-Regular.otf) normal normal 400 normal>,\n",
       " <Font 'STIXNonUnicode' (STIXNonUniBol.otf) normal normal bold normal>,\n",
       " <Font '.SF Compact Rounded' (SFCompactRounded-Black.otf) normal normal 400 normal>,\n",
       " <Font 'System Font' (SFNSDisplay-HeavyItalic.otf) normal normal 400 normal>,\n",
       " <Font 'Serto Batnan' (SyrCOMBatnan.otf) normal normal 400 normal>,\n",
       " <Font 'Wingdings' (Wingdings.ttf) normal normal 400 normal>,\n",
       " <Font 'DIN Condensed' (DIN Condensed Bold.ttf) normal normal bold condensed>,\n",
       " <Font 'Arial' (Arial Italic.ttf) italic normal 400 normal>,\n",
       " <Font 'Luxi Serif' (luxirri.ttf) oblique normal 400 normal>,\n",
       " <Font 'Times New Roman' (Times New Roman Bold.ttf) normal normal roman normal>,\n",
       " <Font 'Big Caslon' (BigCaslon.ttf) normal normal medium normal>,\n",
       " <Font 'Courier New' (Courier New Bold Italic.ttf) italic normal bold normal>,\n",
       " <Font 'System Font' (SFNSText.ttf) normal normal 400 normal>,\n",
       " <Font 'Estrangelo Talada' (SyrCOMTalada.otf) normal normal 400 normal>,\n",
       " <Font 'Georgia' (Georgia.ttf) normal normal 400 normal>,\n",
       " <Font 'Bradley Hand' (Bradley Hand Bold.ttf) normal normal bold normal>,\n",
       " <Font 'Bitstream Vera Serif' (VeraSe.ttf) normal normal 400 normal>,\n",
       " <Font '.SF Compact Display' (SFCompactDisplay-Semibold.otf) normal normal 400 normal>,\n",
       " <Font 'STIXGeneral' (STIXGeneralBolIta.otf) italic normal bold normal>,\n",
       " <Font '.SF Compact Display' (SFCompactDisplay-Black.otf) normal normal 400 normal>,\n",
       " <Font '.SF Compact Rounded' (SFCompactRounded-Heavy.otf) normal normal 400 normal>,\n",
       " <Font 'Mishafi' (Mishafi.ttf) normal normal regular normal>,\n",
       " <Font 'Arial' (Arial.ttf) normal normal 400 normal>,\n",
       " <Font 'STIXSizeOneSym' (STIXSizOneSymBol.otf) normal normal bold normal>,\n",
       " <Font 'Luxi Mono' (luximr.ttf) normal normal regular normal>,\n",
       " <Font 'STIXIntegralsUp' (STIXIntUpReg.otf) normal normal regular normal>,\n",
       " <Font 'Estrangelo Quenneshrin' (SyrCOMQenNeshrin.otf) normal normal 400 normal>,\n",
       " <Font 'Arial Black' (Arial Black.ttf) normal normal black normal>,\n",
       " <Font '.SF Compact Display' (SFCompactDisplay-Ultralight.otf) normal normal 400 normal>,\n",
       " <Font 'Brush Script MT' (Brush Script.ttf) italic normal 400 normal>,\n",
       " <Font 'STIXSizeFourSym' (STIXSizFourSymBol.otf) normal normal bold normal>,\n",
       " <Font 'Apple Chancery' (Apple Chancery.ttf) normal normal 400 normal>,\n",
       " <Font 'System Font' (SFNSDisplay.ttf) normal normal 400 normal>,\n",
       " <Font '.SF NS Display Condensed' (SFNSDisplayCondensed-Heavy.otf) normal normal 400 normal>,\n",
       " <Font 'Tahoma' (Tahoma Bold.ttf) normal normal 700 normal>,\n",
       " <Font 'Arial Narrow' (Arial Narrow Italic.ttf) italic normal 400 condensed>,\n",
       " <Font 'STIXNonUnicode' (STIXNonUni.otf) normal normal regular normal>,\n",
       " <Font '.SF Compact Rounded' (SFCompactRounded-Semibold.otf) normal normal 400 normal>,\n",
       " <Font 'System Font' (SFNSDisplay-SemiboldItalic.otf) normal normal 400 normal>,\n",
       " <Font 'STIXGeneral' (STIXGeneral.otf) normal normal regular normal>,\n",
       " <Font 'STIXSizeOneSym' (STIXSizOneSymReg.otf) normal normal regular normal>,\n",
       " <Font 'Courier New' (Courier New Italic.ttf) italic normal 400 normal>,\n",
       " <Font '.SF Compact Display' (SFCompactDisplay-Thin.otf) normal normal 400 normal>,\n",
       " <Font '.SF Compact Rounded' (SFCompactRounded-Bold.otf) normal normal 400 normal>,\n",
       " <Font 'System Font' (SFNSDisplay-RegularItalic.otf) normal normal 400 normal>,\n",
       " <Font 'Serto Batnan' (SyrCOMBatnanBold.otf) normal normal bold normal>,\n",
       " <Font 'System Font' (SFNSDisplay-LightItalic.otf) normal normal 400 normal>,\n",
       " <Font '.LastResort' (LastResort.otf) normal normal 400 normal>,\n",
       " <Font 'Krungthep' (Krungthep.ttf) normal normal 400 normal>,\n",
       " <Font 'Times New Roman' (Times New Roman.ttf) normal normal roman normal>,\n",
       " <Font 'Times New Roman' (Times New Roman Bold Italic.ttf) italic normal roman normal>,\n",
       " <Font 'STIXIntegralsUpSm' (STIXIntUpSmReg.otf) normal normal regular normal>,\n",
       " <Font 'Diwan Thuluth' (Diwan Thuluth.ttf) normal normal regular normal>,\n",
       " <Font 'Skia' (Skia.ttf) normal normal 400 normal>,\n",
       " <Font '.SF Compact Text' (SFCompactText-LightItalic.otf) normal normal 400 normal>,\n",
       " <Font 'STIXSizeThreeSym' (STIXSizThreeSymBol.otf) normal normal bold normal>,\n",
       " <Font 'Bitstream Vera Sans Mono' (VeraMoIt.ttf) oblique normal 400 normal>,\n",
       " <Font 'Farisi' (Farisi.ttf) normal normal regular normal>,\n",
       " <Font 'Mishafi Gold' (Mishafi Gold.ttf) normal normal regular normal>,\n",
       " <Font 'Times New Roman' (Times New Roman Italic.ttf) italic normal roman normal>,\n",
       " <Font '.SF Compact Text' (SFCompactText-Light.otf) normal normal 400 normal>,\n",
       " <Font 'Ayuthaya' (Ayuthaya.ttf) normal normal 400 normal>,\n",
       " <Font 'Herculanum' (Herculanum.ttf) normal normal 400 normal>,\n",
       " <Font 'Bitstream Vera Sans Mono' (VeraMoBI.ttf) oblique normal bold normal>,\n",
       " <Font 'Arial Narrow' (Arial Narrow.ttf) normal normal 400 condensed>,\n",
       " <Font 'STIXIntegralsD' (STIXIntDReg.otf) normal normal regular normal>,\n",
       " <Font 'Comic Sans MS' (Comic Sans MS.ttf) normal normal 400 normal>,\n",
       " <Font 'STIXNonUnicode' (STIXNonUniBolIta.otf) italic normal bold normal>,\n",
       " <Font 'Apple Braille' (Apple Braille Pinpoint 8 Dot.ttf) normal normal 400 normal>,\n",
       " <Font 'Bitstream Vera Serif' (VeraSeBd.ttf) normal normal bold normal>,\n",
       " <Font 'Zapf Dingbats' (ZapfDingbats.ttf) normal normal 400 normal>,\n",
       " <Font 'Lao Sangam MN' (Lao Sangam MN.ttf) normal normal 400 normal>,\n",
       " <Font 'Arial Narrow' (Arial Narrow Bold Italic.ttf) italic normal bold condensed>,\n",
       " <Font 'Zapfino' (Zapfino.ttf) normal normal 400 normal>,\n",
       " <Font 'Luminari' (Luminari.ttf) normal normal 400 normal>,\n",
       " <Font '.SF NS Display Condensed' (SFNSDisplayCondensed-Black.otf) normal normal 400 normal>,\n",
       " <Font 'Trebuchet MS' (Trebuchet MS Bold.ttf) normal normal bold normal>,\n",
       " <Font 'STIXVariants' (STIXVarBol.otf) normal normal bold normal>,\n",
       " <Font 'System Font' (SFNSDisplay-UltralightItalic.otf) normal normal 400 normal>,\n",
       " <Font '.SF NS Text Condensed' (SFNSTextCondensed-Heavy.otf) normal normal 400 normal>,\n",
       " <Font 'Estrangelo TurAbdin' (SyrCOMTurAbdin.otf) normal normal 400 normal>,\n",
       " <Font 'Bitstream Vera Sans Mono' (VeraMoBd.ttf) normal normal bold normal>,\n",
       " <Font 'Verdana' (Verdana Italic.ttf) italic normal 400 normal>,\n",
       " <Font 'Plantagenet Cherokee' (PlantagenetCherokee.ttf) normal normal 400 normal>,\n",
       " <Font 'Goha-Tibeb Zemen' (GohaTibebZemen.otf) normal normal 400 normal>,\n",
       " <Font '.SF NS Text Condensed' (SFNSTextCondensed-Regular.otf) normal normal 400 normal>,\n",
       " <Font '.Keyboard' (Keyboard.ttf) normal normal 400 normal>,\n",
       " <Font 'Courier New' (Courier New Bold.ttf) normal normal bold normal>,\n",
       " <Font 'Bitstream Vera Sans' (Vera.ttf) normal normal 400 normal>,\n",
       " <Font 'Arial Narrow' (Arial Narrow Bold.ttf) normal normal bold condensed>,\n",
       " <Font 'Apple Braille' (Apple Braille Outline 8 Dot.ttf) normal normal 400 normal>,\n",
       " <Font 'Impact' (Impact.ttf) normal normal 400 normal>,\n",
       " <Font 'STIXSizeFourSym' (STIXSizFourSymReg.otf) normal normal regular normal>,\n",
       " <Font 'System Font' (SFNSDisplay-MediumItalic.otf) normal normal 400 normal>,\n",
       " <Font 'Goha-Tibeb Zemen' (GohaTibebZemen.ttf) normal normal 400 normal>,\n",
       " <Font 'System Font' (SFNSDisplay-BlackItalic.otf) normal normal 400 normal>,\n",
       " <Font 'Estrangelo Midyat' (SyrCOMMidyat.otf) normal normal 400 normal>,\n",
       " <Font 'AppleGothic' (AppleGothic.ttf) normal normal regular normal>,\n",
       " <Font 'Georgia' (Georgia Italic.ttf) italic normal 400 normal>,\n",
       " <Font '.SF Compact Rounded' (SFCompactRounded-Thin.otf) normal normal 400 normal>,\n",
       " <Font 'System Font' (SFNSDisplay-BoldItalic.otf) normal normal 400 normal>,\n",
       " <Font 'Bitstream Vera Sans' (VeraIt.ttf) oblique normal 400 normal>,\n",
       " <Font 'Serto Mardin' (SyrCOMMardin.otf) normal normal 400 normal>,\n",
       " <Font '.SF Compact Text' (SFCompactText-BoldItalic.otf) normal normal 400 normal>,\n",
       " <Font '.SF NS Display Condensed' (SFNSDisplayCondensed-Light.otf) normal normal 400 normal>,\n",
       " <Font '.SF NS Text Condensed' (SFNSTextCondensed-Medium.otf) normal normal 400 normal>,\n",
       " <Font 'Apple Braille' (Apple Braille Pinpoint 6 Dot.ttf) normal normal 400 normal>,\n",
       " <Font 'Serto Jerusalem' (SyrCOMJerusalemItalic.otf) italic normal 400 normal>,\n",
       " <Font 'STIXSizeFiveSym' (STIXSizFiveSymReg.otf) normal normal regular normal>,\n",
       " <Font 'Comic Sans MS' (Comic Sans MS Bold.ttf) normal normal bold normal>,\n",
       " <Font 'Sathu' (Sathu.ttf) normal normal 400 normal>,\n",
       " <Font 'Andale Mono' (Andale Mono.ttf) normal normal 400 normal>,\n",
       " <Font '.SF Compact Display' (SFCompactDisplay-Bold.otf) normal normal 400 normal>,\n",
       " <Font 'Trattatello' (Trattatello.ttf) normal normal 400 normal>,\n",
       " <Font '.SF Compact Display' (SFCompactDisplay-Medium.otf) normal normal 400 normal>,\n",
       " <Font 'Arial' (Arial Bold.ttf) normal normal bold normal>,\n",
       " <Font '.SF Compact Text' (SFCompactText-Medium.otf) normal normal 400 normal>,\n",
       " <Font 'Bodoni 72 Smallcaps' (Bodoni 72 Smallcaps Book.ttf) normal normal book normal>,\n",
       " <Font 'Tahoma' (Tahoma.ttf) normal normal 400 normal>,\n",
       " <Font 'TSTMovRE' (태-영화동판체.ttf) normal normal 400 normal>,\n",
       " <Font 'STIXSizeTwoSym' (STIXSizTwoSymReg.otf) normal normal regular normal>,\n",
       " <Font 'System Font' (SFNSDisplay-ThinItalic.otf) normal normal 400 normal>,\n",
       " <Font 'Estrangelo Nisibin' (SyrCOMNisibin.otf) normal normal 400 normal>,\n",
       " <Font 'Webdings' (Webdings.ttf) normal normal 400 normal>,\n",
       " <Font 'Silom' (Silom.ttf) normal normal 400 normal>,\n",
       " <Font 'Georgia' (Georgia Bold.ttf) normal normal bold normal>,\n",
       " <Font 'Verdana' (Verdana Bold.ttf) normal normal bold normal>,\n",
       " <Font 'STIXSizeTwoSym' (STIXSizTwoSymBol.otf) normal normal bold normal>,\n",
       " <Font 'Apple Braille' (Apple Braille Outline 6 Dot.ttf) normal normal 400 normal>,\n",
       " <Font 'TSTMovRO' (태-영화체.ttf) normal normal 400 normal>,\n",
       " <Font 'STIXGeneral' (STIXGeneralBol.otf) normal normal bold normal>,\n",
       " <Font 'Serto Jerusalem' (SyrCOMJerusalemBold.otf) normal normal bold normal>,\n",
       " <Font 'Arial' (Arial Bold Italic.ttf) italic normal bold normal>,\n",
       " <Font '.SF Compact Text' (SFCompactText-HeavyItalic.otf) normal normal 400 normal>,\n",
       " <Font 'Serto Urhoy' (SyrCOMUrhoy.otf) normal normal 400 normal>,\n",
       " <Font 'Apple Braille' (Apple Braille.ttf) normal normal 400 normal>,\n",
       " <Font 'Wingdings 2' (Wingdings 2.ttf) normal normal 400 normal>,\n",
       " <Font 'Bodoni Ornaments' (Bodoni Ornaments.ttf) normal normal 400 normal>,\n",
       " <Font '.SF Compact Text' (SFCompactText-Regular.otf) normal normal 400 normal>,\n",
       " <Font '.SF NS Text Condensed' (SFNSTextCondensed-Light.otf) normal normal 400 normal>,\n",
       " <Font 'DIN Alternate' (DIN Alternate Bold.ttf) normal normal bold normal>,\n",
       " <Font '.SF Compact Text' (SFCompactText-SemiboldItalic.otf) normal normal 400 normal>,\n",
       " <Font '.SF NS Display Condensed' (SFNSDisplayCondensed-Ultralight.otf) normal normal 400 normal>,\n",
       " <Font 'Khmer Sangam MN' (Khmer Sangam MN.ttf) normal normal 400 normal>,\n",
       " <Font 'System Font' (SFNSTextItalic.ttf) normal normal 400 normal>,\n",
       " <Font 'Serto Kharput' (SyrCOMKharput.otf) normal normal 400 normal>,\n",
       " <Font 'Georgia' (Georgia Bold Italic.ttf) italic normal bold normal>,\n",
       " <Font 'STIXIntegralsUpSm' (STIXIntUpSmBol.otf) normal normal bold normal>,\n",
       " <Font 'STIXIntegralsSm' (STIXIntSmBol.otf) normal normal bold normal>,\n",
       " <Font '.SF Compact Display' (SFCompactDisplay-Heavy.otf) normal normal 400 normal>,\n",
       " <Font 'Microsoft Sans Serif' (Microsoft Sans Serif.ttf) normal normal 400 normal>,\n",
       " <Font 'Arial Unicode MS' (Arial Unicode.ttf) normal normal 400 normal>,\n",
       " <Font '.SF NS Display Condensed' (SFNSDisplayCondensed-Thin.otf) normal normal 400 normal>,\n",
       " <Font 'Verdana' (Verdana.ttf) normal normal 400 normal>]"
      ]
     },
     "execution_count": 74,
     "metadata": {},
     "output_type": "execute_result"
    }
   ],
   "source": [
    "font_list"
   ]
  },
  {
   "cell_type": "code",
   "execution_count": 71,
   "metadata": {},
   "outputs": [],
   "source": [
    "import matplotlib.pyplot as plt\n",
    "\n",
    "plt.rcParams[\"font.family\"] = 'Arial Unicode MS'\n",
    "plt.rcParams['axes.unicode_minus'] = False\n",
    "plt.rcParams['font.size'] = 12"
   ]
  },
  {
   "cell_type": "code",
   "execution_count": 72,
   "metadata": {},
   "outputs": [
    {
     "data": {
      "image/png": "[encoded data removed]",
      "text/plain": [
       "<Figure size 432x288 with 1 Axes>"
      ]
     },
     "metadata": {
      "needs_background": "light"
     },
     "output_type": "display_data"
    }
   ],
   "source": [
    "plt.plot([1, 2, 3, 4])\n",
    "plt.ylabel('숫자들')\n",
    "plt.show()"
   ]
  },
  {
   "cell_type": "code",
   "execution_count": null,
   "metadata": {},
   "outputs": [],
   "source": [
    "plt.plot([1, 2, 3, 4], [1, 4, 9, 16])"
   ]
  },
  {
   "cell_type": "markdown",
   "metadata": {},
   "source": [
    "Formatting the style of your plot\n",
    "---------------------------------"
   ]
  },
  {
   "cell_type": "code",
   "execution_count": null,
   "metadata": {},
   "outputs": [],
   "source": [
    "plt.plot([1, 2, 3, 4], [1, 4, 9, 16], 'ro')\n",
    "plt.axis([0, 6, 0, 20])\n",
    "plt.show()"
   ]
  },
  {
   "cell_type": "code",
   "execution_count": null,
   "metadata": {},
   "outputs": [],
   "source": [
    "import numpy as np\n",
    "\n",
    "# evenly sampled time at 200ms intervals\n",
    "t = np.arange(0., 5., 0.2)\n",
    "\n",
    "# red dashes, blue squares and green triangles\n",
    "plt.plot(t, t, 'r--', t, t**2, 'bs', t, t**3, 'g^')\n",
    "plt.show()"
   ]
  },
  {
   "cell_type": "markdown",
   "metadata": {},
   "source": [
    "\n",
    "Plotting with keyword strings\n",
    "============================="
   ]
  },
  {
   "cell_type": "code",
   "execution_count": null,
   "metadata": {},
   "outputs": [],
   "source": [
    "data = {'a': np.arange(50),\n",
    "        'c': np.random.randint(0, 50, 50),\n",
    "        'd': np.random.randn(50)}\n",
    "data['b'] = data['a'] + 10 * np.random.randn(50)\n",
    "data['d'] = np.abs(data['d']) * 100\n",
    "\n",
    "plt.scatter('a', 'b', c='c', s='d', data=data)\n",
    "plt.xlabel('entry a')\n",
    "plt.ylabel('entry b')\n",
    "plt.show()"
   ]
  },
  {
   "cell_type": "markdown",
   "metadata": {},
   "source": [
    "\n",
    "Plotting with categorical variables\n",
    "==================================="
   ]
  },
  {
   "cell_type": "code",
   "execution_count": 66,
   "metadata": {},
   "outputs": [
    {
     "data": {
      "image/png": "[encoded data removed]",
      "text/plain": [
       "<Figure size 648x216 with 3 Axes>"
      ]
     },
     "metadata": {
      "needs_background": "light"
     },
     "output_type": "display_data"
    }
   ],
   "source": [
    "names = ['group_a', 'group_b', 'group_c']\n",
    "values = [1, 10, 100]\n",
    "\n",
    "plt.figure(1, figsize=(9, 3))\n",
    "\n",
    "plt.subplot(131)\n",
    "plt.bar(names, values)\n",
    "plt.subplot(132)\n",
    "plt.scatter(names, values)\n",
    "plt.subplot(133)\n",
    "plt.plot(names, values)\n",
    "plt.suptitle('Categorical Plotting')\n",
    "plt.show()"
   ]
  },
  {
   "cell_type": "markdown",
   "metadata": {},
   "source": [
    "Controlling line properties\n",
    "===========================\n",
    "\n",
    "Lines have many attributes that you can set: linewidth, dash style,\n",
    "antialiased, etc; see :class:`matplotlib.lines.Line2D`.  There are\n",
    "several ways to set line properties\n",
    "\n",
    "* Use keyword args::\n",
    "\n",
    "      plt.plot(x, y, linewidth=2.0)\n",
    "\n",
    "\n",
    "* Use the setter methods of a ``Line2D`` instance.  ``plot`` returns a list\n",
    "  of ``Line2D`` objects; e.g., ``line1, line2 = plot(x1, y1, x2, y2)``.  In the code\n",
    "  below we will suppose that we have only\n",
    "  one line so that the list returned is of length 1.  We use tuple unpacking with\n",
    "  ``line,`` to get the first element of that list::\n",
    "\n",
    "      line, = plt.plot(x, y, '-')\n",
    "      line.set_antialiased(False) # turn off antialising\n",
    "\n",
    "* Use the :func:`~matplotlib.pyplot.setp` command.  The example below\n",
    "  uses a MATLAB-style command to set multiple properties\n",
    "  on a list of lines.  ``setp`` works transparently with a list of objects\n",
    "  or a single object.  You can either use python keyword arguments or\n",
    "  MATLAB-style string/value pairs::\n",
    "\n",
    "      lines = plt.plot(x1, y1, x2, y2)\n",
    "      # use keyword args\n",
    "      plt.setp(lines, color='r', linewidth=2.0)\n",
    "      # or MATLAB style string value pairs\n",
    "      plt.setp(lines, 'color', 'r', 'linewidth', 2.0)"
   ]
  },
  {
   "cell_type": "markdown",
   "metadata": {},
   "source": [
    "Working with multiple figures and axes\n",
    "======================================"
   ]
  },
  {
   "cell_type": "code",
   "execution_count": 76,
   "metadata": {},
   "outputs": [
    {
     "ename": "NameError",
     "evalue": "name 'np' is not defined",
     "output_type": "error",
     "traceback": [
      "\u001b[0;31m---------------------------------------------------------------------------\u001b[0m",
      "\u001b[0;31mNameError\u001b[0m                                 Traceback (most recent call last)",
      "\u001b[0;32m<ipython-input-76-19ba4c9311a3>\u001b[0m in \u001b[0;36m<module>\u001b[0;34m()\u001b[0m\n\u001b[1;32m      2\u001b[0m     \u001b[0;32mreturn\u001b[0m \u001b[0mnp\u001b[0m\u001b[0;34m.\u001b[0m\u001b[0mexp\u001b[0m\u001b[0;34m(\u001b[0m\u001b[0;34m-\u001b[0m\u001b[0mt\u001b[0m\u001b[0;34m)\u001b[0m \u001b[0;34m*\u001b[0m \u001b[0mnp\u001b[0m\u001b[0;34m.\u001b[0m\u001b[0mcos\u001b[0m\u001b[0;34m(\u001b[0m\u001b[0;36m2\u001b[0m\u001b[0;34m*\u001b[0m\u001b[0mnp\u001b[0m\u001b[0;34m.\u001b[0m\u001b[0mpi\u001b[0m\u001b[0;34m*\u001b[0m\u001b[0mt\u001b[0m\u001b[0;34m)\u001b[0m\u001b[0;34m\u001b[0m\u001b[0m\n\u001b[1;32m      3\u001b[0m \u001b[0;34m\u001b[0m\u001b[0m\n\u001b[0;32m----> 4\u001b[0;31m \u001b[0mt1\u001b[0m \u001b[0;34m=\u001b[0m \u001b[0mnp\u001b[0m\u001b[0;34m.\u001b[0m\u001b[0marange\u001b[0m\u001b[0;34m(\u001b[0m\u001b[0;36m0.0\u001b[0m\u001b[0;34m,\u001b[0m \u001b[0;36m5.0\u001b[0m\u001b[0;34m,\u001b[0m \u001b[0;36m0.1\u001b[0m\u001b[0;34m)\u001b[0m\u001b[0;34m\u001b[0m\u001b[0m\n\u001b[0m\u001b[1;32m      5\u001b[0m \u001b[0mt2\u001b[0m \u001b[0;34m=\u001b[0m \u001b[0mnp\u001b[0m\u001b[0;34m.\u001b[0m\u001b[0marange\u001b[0m\u001b[0;34m(\u001b[0m\u001b[0;36m0.0\u001b[0m\u001b[0;34m,\u001b[0m \u001b[0;36m5.0\u001b[0m\u001b[0;34m,\u001b[0m \u001b[0;36m0.02\u001b[0m\u001b[0;34m)\u001b[0m\u001b[0;34m\u001b[0m\u001b[0m\n\u001b[1;32m      6\u001b[0m \u001b[0;34m\u001b[0m\u001b[0m\n",
      "\u001b[0;31mNameError\u001b[0m: name 'np' is not defined"
     ]
    }
   ],
   "source": [
    "def f(t):\n",
    "    return np.exp(-t) * np.cos(2*np.pi*t)\n",
    "\n",
    "t1 = np.arange(0.0, 5.0, 0.1)\n",
    "t2 = np.arange(0.0, 5.0, 0.02)\n",
    "\n",
    "plt.figure(1)\n",
    "plt.subplot(211)\n",
    "plt.plot(t1, f(t1), 'bo', t2, f(t2), 'k')\n",
    "\n",
    "plt.subplot(212)\n",
    "plt.plot(t2, np.cos(2*np.pi*t2), 'r--')\n",
    "plt.show()"
   ]
  },
  {
   "cell_type": "code",
   "execution_count": 77,
   "metadata": {},
   "outputs": [
    {
     "name": "stderr",
     "output_type": "stream",
     "text": [
      "/Users/sunde41/anaconda3/lib/python3.7/site-packages/matplotlib/cbook/deprecation.py:107: MatplotlibDeprecationWarning: Adding an axes using the same arguments as a previous axes currently reuses the earlier instance.  In a future version, a new instance will always be created and returned.  Meanwhile, this warning can be suppressed, and the future behavior ensured, by passing a unique label to each axes instance.\n",
      "  warnings.warn(message, mplDeprecation, stacklevel=1)\n"
     ]
    },
    {
     "data": {
      "text/plain": [
       "Text(0.5,1,'Easy as 1, 2, 3')"
      ]
     },
     "execution_count": 77,
     "metadata": {},
     "output_type": "execute_result"
    },
    {
     "data": {
      "image/png": "[encoded data removed]",
      "text/plain": [
       "<Figure size 432x288 with 2 Axes>"
      ]
     },
     "metadata": {
      "needs_background": "light"
     },
     "output_type": "display_data"
    },
    {
     "data": {
      "image/png": "[encoded data removed]",
      "text/plain": [
       "<Figure size 432x288 with 1 Axes>"
      ]
     },
     "metadata": {
      "needs_background": "light"
     },
     "output_type": "display_data"
    }
   ],
   "source": [
    "import matplotlib.pyplot as plt\n",
    "plt.figure(1)                # the first figure\n",
    "plt.subplot(211)             # the first subplot in the first figure\n",
    "plt.plot([1, 2, 3])\n",
    "plt.subplot(212)             # the second subplot in the first figure\n",
    "plt.plot([4, 5, 6])\n",
    "\n",
    "\n",
    "plt.figure(2)                # a second figure\n",
    "plt.plot([4, 5, 6])          # creates a subplot(111) by default\n",
    "\n",
    "plt.figure(1)                # figure 1 current; subplot(212) still current\n",
    "plt.subplot(211)             # make subplot(211) in figure1 current\n",
    "plt.title('Easy as 1, 2, 3') # subplot 211 title"
   ]
  },
  {
   "cell_type": "markdown",
   "metadata": {},
   "source": [
    "Working with text\n",
    "================="
   ]
  },
  {
   "cell_type": "code",
   "execution_count": null,
   "metadata": {},
   "outputs": [],
   "source": [
    "mu, sigma = 100, 15\n",
    "x = mu + sigma * np.random.randn(10000)\n",
    "\n",
    "# the histogram of the data\n",
    "n, bins, patches = plt.hist(x, 50, density=1, facecolor='g', alpha=0.75)\n",
    "\n",
    "\n",
    "plt.xlabel('Smarts')\n",
    "plt.ylabel('Probability')\n",
    "plt.title('Histogram of IQ')\n",
    "plt.text(60, .025, r'$\\mu=100,\\ \\sigma=15$')\n",
    "plt.axis([40, 160, 0, 0.03])\n",
    "plt.grid(True)\n",
    "plt.show()"
   ]
  },
  {
   "cell_type": "markdown",
   "metadata": {},
   "source": [
    "Annotating text\n",
    "---------------"
   ]
  },
  {
   "cell_type": "code",
   "execution_count": null,
   "metadata": {},
   "outputs": [],
   "source": [
    "ax = plt.subplot(111)\n",
    "\n",
    "t = np.arange(0.0, 5.0, 0.01)\n",
    "s = np.cos(2*np.pi*t)\n",
    "line, = plt.plot(t, s, lw=2)\n",
    "\n",
    "plt.annotate('local max', xy=(2, 1), xytext=(3, 1.5),\n",
    "             arrowprops=dict(facecolor='black', shrink=0.05),\n",
    "             )\n",
    "\n",
    "plt.ylim(-2, 2)\n",
    "plt.show()"
   ]
  }
 ],
 "metadata": {
  "kernelspec": {
   "display_name": "Python 3",
   "language": "python",
   "name": "python3"
  },
  "language_info": {
   "codemirror_mode": {
    "name": "ipython",
    "version": 3
   },
   "file_extension": ".py",
   "mimetype": "text/x-python",
   "name": "python",
   "nbconvert_exporter": "python",
   "pygments_lexer": "ipython3",
   "version": "3.6.5"
  }
 },
 "nbformat": 4,
 "nbformat_minor": 1
}

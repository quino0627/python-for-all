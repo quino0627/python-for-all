{
 "cells": [
  {
   "cell_type": "markdown",
   "metadata": {},
   "source": [
    "## 1.formatting (ipynb)\n",
    "## 2.for while 이용 + container (list, tuple range) 하여 다양한 함수 만들기\n",
    "### 컨테이너의 네가지 패턴+2가지\n",
    "## 3.fp (iterator generator) 함수형 패러다임\n",
    "### generator 는 yield 쓰는거\n",
    "## 4.Comprehension(단축해서 쓰는거)\n",
    "## 5.Map, Filter()\n",
    "## 6.High-Order function(ipynb)\n",
    "## 고급 함수는 안 냄(함수안에 함수 넣어서 클로저 - 데코레이터)\n",
    "---\n",
    "## 쿼링 안낸다\n",
    "## 모듈 관련된거 시험문제 안 냄\n",
    "## 7. Try 냄\n",
    "## 낸다고 하고 안 낼수도 있음  ^_^\n",
    "## Abstraction 안냄, Encapsulation(언더바 한개 붙은거 빼고는 별거 없음), Polymorphysm(오버로딩 시험에 안 냄 알고는 있어야 함)\n",
    "\n",
    "## Inheritence 다중상속은 안내고 단일 상속 오버라이딩 하는거는 냄\n",
    "## 초기화 -> 인스턴스화라는 말을 씀 __init__ 냄\n",
    "## 268 부터 공부 안해도 된다 알려드림\n",
    "## 269 개념 읽어보기\n",
    "## 270 \n",
    "## 271 다 쓸수 있다(아래쪽 예제 코드) 기본개념 알아야함\n",
    "## 272 몰라도 됨\n",
    "## 273 알아야함\n",
    "## 274 self대신 this쓰면? 됨 self대신 x써도 되고 그럼 예제\n",
    "## 275 276 다 알아야함 __두개 붙으면 private 예제\n",
    "## 277 278 공부하기 classmethod붙이면 클래서에서도 쓸수있다,\n",
    "## 279 280 281 282\n",
    "## 283 제외\n",
    "## 284 285 하고\n",
    "## 286 ~ 끝안해도 됨\n",
    "## 287 ~ 연산자 오버로딩 ~ 다 생략!\n",
    "## 다이나믹 ~ 다 생략\n",
    "##"
   ]
  },
  {
   "cell_type": "code",
   "execution_count": 1,
   "metadata": {},
   "outputs": [
    {
     "data": {
      "text/plain": [
       "3"
      ]
     },
     "execution_count": 1,
     "metadata": {},
     "output_type": "execute_result"
    }
   ],
   "source": [
    "abs(-3)"
   ]
  },
  {
   "cell_type": "code",
   "execution_count": 2,
   "metadata": {},
   "outputs": [
    {
     "data": {
      "text/plain": [
       "3"
      ]
     },
     "execution_count": 2,
     "metadata": {},
     "output_type": "execute_result"
    }
   ],
   "source": [
    "(-3).__abs__() # 연산자 우선순위를 잘 따져야함\n",
    "#연산자 우선순위는 바꿀수없는데 기능은 바꿀수있다.\n",
    "#시험에는 안 나온다.\n",
    "#연산자에 대응하는 __ㅁㄴㅇㄹ__도 있다. 이것을 오버라이딩해서 기능을 바꿀 수 있다.\n",
    "#비트연산자 시험문제안나온다\n",
    "#보통 dir 쳤을 때 __가 없으면 짝에 대응하는 함수가 없다"
   ]
  },
  {
   "cell_type": "code",
   "execution_count": 3,
   "metadata": {},
   "outputs": [],
   "source": [
    "#이스케이프 문자와 포매팅\n",
    "#로우\n",
    "x = 'a\\nb\\t'"
   ]
  },
  {
   "cell_type": "code",
   "execution_count": 4,
   "metadata": {},
   "outputs": [
    {
     "data": {
      "text/plain": [
       "'a\\nb\\t'"
      ]
     },
     "execution_count": 4,
     "metadata": {},
     "output_type": "execute_result"
    }
   ],
   "source": [
    "x"
   ]
  },
  {
   "cell_type": "code",
   "execution_count": 5,
   "metadata": {},
   "outputs": [
    {
     "name": "stdout",
     "output_type": "stream",
     "text": [
      "a\n",
      "b\t\n"
     ]
    }
   ],
   "source": [
    "print(x)"
   ]
  },
  {
   "cell_type": "code",
   "execution_count": 6,
   "metadata": {},
   "outputs": [
    {
     "name": "stdout",
     "output_type": "stream",
     "text": [
      "a\\nb\\t\n"
     ]
    }
   ],
   "source": [
    "y = r'a\\nb\\t'\n",
    "print(y) ##r 넣으면 "
   ]
  },
  {
   "cell_type": "code",
   "execution_count": 7,
   "metadata": {},
   "outputs": [],
   "source": [
    "#바이트생략\n",
    "#스프링 operation(84쪽)\n",
    "\n",
    "#템플릿 수업시간에 했음\n",
    "#포맷 스트링"
   ]
  },
  {
   "cell_type": "code",
   "execution_count": 11,
   "metadata": {},
   "outputs": [
    {
     "ename": "SyntaxError",
     "evalue": "invalid syntax (<ipython-input-11-bd5ed6af05f4>, line 1)",
     "output_type": "error",
     "traceback": [
      "\u001b[0;36m  File \u001b[0;32m\"<ipython-input-11-bd5ed6af05f4>\"\u001b[0;36m, line \u001b[0;32m1\u001b[0m\n\u001b[0;31m    y = f 'aaa {3+5} '\u001b[0m\n\u001b[0m                     ^\u001b[0m\n\u001b[0;31mSyntaxError\u001b[0m\u001b[0;31m:\u001b[0m invalid syntax\n"
     ]
    }
   ],
   "source": [
    "y = f 'aaa {3+5} '\n",
    "print(y)\n",
    "##포맷 아이파이썬 노트북에 있다."
   ]
  },
  {
   "cell_type": "code",
   "execution_count": 12,
   "metadata": {},
   "outputs": [],
   "source": [
    "#100쪽 이런거 안함\n",
    "#메소드란? 클래스만 쓸 수 있는 함수"
   ]
  },
  {
   "cell_type": "code",
   "execution_count": 13,
   "metadata": {},
   "outputs": [
    {
     "data": {
      "text/plain": [
       "['__add__',\n",
       " '__class__',\n",
       " '__contains__',\n",
       " '__delattr__',\n",
       " '__dir__',\n",
       " '__doc__',\n",
       " '__eq__',\n",
       " '__format__',\n",
       " '__ge__',\n",
       " '__getattribute__',\n",
       " '__getitem__',\n",
       " '__getnewargs__',\n",
       " '__gt__',\n",
       " '__hash__',\n",
       " '__init__',\n",
       " '__init_subclass__',\n",
       " '__iter__',\n",
       " '__le__',\n",
       " '__len__',\n",
       " '__lt__',\n",
       " '__mod__',\n",
       " '__mul__',\n",
       " '__ne__',\n",
       " '__new__',\n",
       " '__reduce__',\n",
       " '__reduce_ex__',\n",
       " '__repr__',\n",
       " '__rmod__',\n",
       " '__rmul__',\n",
       " '__setattr__',\n",
       " '__sizeof__',\n",
       " '__str__',\n",
       " '__subclasshook__',\n",
       " 'capitalize',\n",
       " 'casefold',\n",
       " 'center',\n",
       " 'count',\n",
       " 'encode',\n",
       " 'endswith',\n",
       " 'expandtabs',\n",
       " 'find',\n",
       " 'format',\n",
       " 'format_map',\n",
       " 'index',\n",
       " 'isalnum',\n",
       " 'isalpha',\n",
       " 'isdecimal',\n",
       " 'isdigit',\n",
       " 'isidentifier',\n",
       " 'islower',\n",
       " 'isnumeric',\n",
       " 'isprintable',\n",
       " 'isspace',\n",
       " 'istitle',\n",
       " 'isupper',\n",
       " 'join',\n",
       " 'ljust',\n",
       " 'lower',\n",
       " 'lstrip',\n",
       " 'maketrans',\n",
       " 'partition',\n",
       " 'replace',\n",
       " 'rfind',\n",
       " 'rindex',\n",
       " 'rjust',\n",
       " 'rpartition',\n",
       " 'rsplit',\n",
       " 'rstrip',\n",
       " 'split',\n",
       " 'splitlines',\n",
       " 'startswith',\n",
       " 'strip',\n",
       " 'swapcase',\n",
       " 'title',\n",
       " 'translate',\n",
       " 'upper',\n",
       " 'zfill']"
      ]
     },
     "execution_count": 13,
     "metadata": {},
     "output_type": "execute_result"
    }
   ],
   "source": [
    "x = 'a'\n",
    "dir(x) # 했을 때 나오는 함수들이 메소드이다\n",
    "\n",
    "# accumulate + for로 바꾸는 거 시험에 나옴"
   ]
  },
  {
   "cell_type": "code",
   "execution_count": 17,
   "metadata": {},
   "outputs": [],
   "source": [
    "# 271\n",
    "class A:\n",
    "    x=3\n",
    "    #얘는 인스턴스 메소드가 있을까? 있다.\n",
    "    # object를 상속받았기 때문이다.\n",
    "    # 내가정의한 instance method 는 없다.\n",
    "    # 3이라는 class attribute가 있다.\n",
    "    #class attribute는 클래스. 으로 접근 가능하다.\n",
    "    def __init__(self):\n",
    "        self.x = 1\n",
    "    # A.y 는 안됨\n",
    "    # 왜냐하믄 self. 한거는 인스턴스화를 해야지만 쓸수 있따."
   ]
  },
  {
   "cell_type": "code",
   "execution_count": 18,
   "metadata": {},
   "outputs": [
    {
     "data": {
      "text/plain": [
       "1"
      ]
     },
     "execution_count": 18,
     "metadata": {},
     "output_type": "execute_result"
    }
   ],
   "source": [
    "b = A()\n",
    "b.x\n",
    "#변수가 이름이 같은게 있으면 인스턴스에 x가 있으면 인스턴스거를 쓴다. 클래스에서 찾는다"
   ]
  },
  {
   "cell_type": "code",
   "execution_count": 19,
   "metadata": {},
   "outputs": [],
   "source": [
    "#274\n",
    "class B:\n",
    "    x = 3\n",
    "    def __init__(x):\n",
    "        return x"
   ]
  },
  {
   "cell_type": "code",
   "execution_count": 22,
   "metadata": {},
   "outputs": [
    {
     "ename": "TypeError",
     "evalue": "__init__() should return None, not 'B'",
     "output_type": "error",
     "traceback": [
      "\u001b[0;31m---------------------------------------------------------------------------\u001b[0m",
      "\u001b[0;31mTypeError\u001b[0m                                 Traceback (most recent call last)",
      "\u001b[0;32m<ipython-input-22-f16edd3d6a7d>\u001b[0m in \u001b[0;36m<module>\u001b[0;34m()\u001b[0m\n\u001b[0;32m----> 1\u001b[0;31m \u001b[0mb\u001b[0m \u001b[0;34m=\u001b[0m \u001b[0mB\u001b[0m\u001b[0;34m(\u001b[0m\u001b[0;34m)\u001b[0m \u001b[0;31m# 자기 자신을 반환하게 하는 초기 함수는 만들 수 없다.\u001b[0m\u001b[0;34m\u001b[0m\u001b[0m\n\u001b[0m",
      "\u001b[0;31mTypeError\u001b[0m: __init__() should return None, not 'B'"
     ]
    }
   ],
   "source": [
    "b = B() # 자기 자신을 반환하게 하는 초기 함수는 만들 수 없다."
   ]
  },
  {
   "cell_type": "code",
   "execution_count": 23,
   "metadata": {},
   "outputs": [],
   "source": [
    "#274\n",
    "class C:\n",
    "    x = 3\n",
    "    def __init__(self):\n",
    "        print(\"__init__\")\n",
    "    def self(x):\n",
    "        return x"
   ]
  },
  {
   "cell_type": "code",
   "execution_count": 24,
   "metadata": {},
   "outputs": [
    {
     "name": "stdout",
     "output_type": "stream",
     "text": [
      "__init__\n"
     ]
    }
   ],
   "source": [
    "c = C()"
   ]
  },
  {
   "cell_type": "code",
   "execution_count": 25,
   "metadata": {},
   "outputs": [
    {
     "data": {
      "text/plain": [
       "True"
      ]
     },
     "execution_count": 25,
     "metadata": {},
     "output_type": "execute_result"
    }
   ],
   "source": [
    "c is c.self() # 메모리 번지까지 같은지 확인\n",
    "# 반환이 자기 자신"
   ]
  },
  {
   "cell_type": "code",
   "execution_count": 29,
   "metadata": {},
   "outputs": [],
   "source": [
    "# 275\n",
    "class Spam:\n",
    "    def __bacon(self):\n",
    "        return Spam()\n",
    "    def egg(self):\n",
    "        return self.__bacon()\n",
    "x = Spam()\n",
    "#private처럼 보이지만 private은 아니고 못 쓰게 이름을 바꿔 버리는 것\n",
    "#이름을 바꾸니까 혼동되어 프라이빗 처럼"
   ]
  },
  {
   "cell_type": "code",
   "execution_count": 30,
   "metadata": {},
   "outputs": [
    {
     "data": {
      "text/plain": [
       "<__main__.Spam at 0x104c474e0>"
      ]
     },
     "execution_count": 30,
     "metadata": {},
     "output_type": "execute_result"
    }
   ],
   "source": [
    "x._Spam__bacon()"
   ]
  },
  {
   "cell_type": "code",
   "execution_count": null,
   "metadata": {},
   "outputs": [],
   "source": [
    "#abstract는 선언은 하지만 구현은 하지 않는 것\n",
    "from abc import ABCMeta\n",
    "from abc import abstractmethod\n",
    "class Command(metaclass=ABCMeta):\n",
    "    @abstractmethod # 이거 붙이면 오버라이딩 하지 않으면 에러 남 \n",
    "    def execute(self):\n",
    "        pass"
   ]
  }
 ],
 "metadata": {
  "kernelspec": {
   "display_name": "Python 3",
   "language": "python",
   "name": "python3"
  },
  "language_info": {
   "codemirror_mode": {
    "name": "ipython",
    "version": 3
   },
   "file_extension": ".py",
   "mimetype": "text/x-python",
   "name": "python",
   "nbconvert_exporter": "python",
   "pygments_lexer": "ipython3",
   "version": "3.6.5"
  }
 },
 "nbformat": 4,
 "nbformat_minor": 2
}

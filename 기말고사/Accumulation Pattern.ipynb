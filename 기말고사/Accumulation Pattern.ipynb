{
 "cells": [
  {
   "cell_type": "markdown",
   "metadata": {},
   "source": [
    "# 1. Accumlation Pattern "
   ]
  },
  {
   "cell_type": "markdown",
   "metadata": {},
   "source": [
    "```python\n",
    "Accum = NullValue\n",
    "for loopvar in loopiter:\n",
    "    Accum = expr(Accum, loopvar)\n",
    "```"
   ]
  },
  {
   "cell_type": "markdown",
   "metadata": {},
   "source": [
    "## 1.1 Numeric Accumlation "
   ]
  },
  {
   "cell_type": "code",
   "execution_count": 10,
   "metadata": {},
   "outputs": [],
   "source": [
    "def sum_int(x):\n",
    "    temp = 0\n",
    "    for i in range(x):\n",
    "        temp += i\n",
    "    return temp"
   ]
  },
  {
   "cell_type": "code",
   "execution_count": 11,
   "metadata": {},
   "outputs": [],
   "source": [
    "def sum_iterable(x):\n",
    "    temp = 0\n",
    "    for i in x:\n",
    "        temp += i\n",
    "    return temp"
   ]
  },
  {
   "cell_type": "code",
   "execution_count": 12,
   "metadata": {},
   "outputs": [],
   "source": [
    "def sum_iterable2(x):\n",
    "    return sum([a for a in x])"
   ]
  },
  {
   "cell_type": "code",
   "execution_count": 13,
   "metadata": {},
   "outputs": [],
   "source": [
    "def min_iterable(x):\n",
    "    min_ = x[0]\n",
    "    for i in x:\n",
    "        if min_ > i :\n",
    "            min_ = i\n",
    "    return min_"
   ]
  },
  {
   "cell_type": "code",
   "execution_count": 14,
   "metadata": {},
   "outputs": [
    {
     "data": {
      "text/plain": [
       "-2"
      ]
     },
     "execution_count": 14,
     "metadata": {},
     "output_type": "execute_result"
    }
   ],
   "source": [
    "x = [1,2,3,4,-1]\n",
    "def sum_gap(x):\n",
    "    first = x[0]\n",
    "    sum_ = 0\n",
    "    for i in x:\n",
    "        temp = i - first\n",
    "        first = i\n",
    "        sum_ += temp \n",
    "    return sum_\n",
    "# first = 1\n",
    "# i = 1\n",
    "# sum_ = 0\n",
    "sum_gap(x)"
   ]
  },
  {
   "cell_type": "code",
   "execution_count": 15,
   "metadata": {},
   "outputs": [],
   "source": [
    "def sum_gap2(x):\n",
    "    temp = 0\n",
    "    for i in x:\n",
    "        temp = x[i+1] - x[i]"
   ]
  },
  {
   "cell_type": "markdown",
   "metadata": {},
   "source": [
    "## 1.2 Boolean Accumulation "
   ]
  },
  {
   "cell_type": "code",
   "execution_count": 36,
   "metadata": {},
   "outputs": [
    {
     "data": {
      "text/plain": [
       "True"
      ]
     },
     "execution_count": 36,
     "metadata": {},
     "output_type": "execute_result"
    }
   ],
   "source": [
    "all([1,3,2,3,])"
   ]
  },
  {
   "cell_type": "code",
   "execution_count": 37,
   "metadata": {},
   "outputs": [],
   "source": [
    "def all_true(x):\n",
    "    flag = True\n",
    "    for i in x:\n",
    "        flag = flag and i\n",
    "    return flag"
   ]
  },
  {
   "cell_type": "markdown",
   "metadata": {},
   "source": [
    "## 1.3 String Accumulation "
   ]
  },
  {
   "cell_type": "code",
   "execution_count": 38,
   "metadata": {},
   "outputs": [],
   "source": [
    "def stin(x):\n",
    "    a = ''\n",
    "    for i in x:\n",
    "        if i in ['a','e','i','o','u']:\n",
    "            a += i\n",
    "    return a\n",
    "    "
   ]
  },
  {
   "cell_type": "code",
   "execution_count": 39,
   "metadata": {},
   "outputs": [
    {
     "data": {
      "text/plain": [
       "'aaaaea'"
      ]
     },
     "execution_count": 39,
     "metadata": {},
     "output_type": "execute_result"
    }
   ],
   "source": [
    "stin('ADSASDFAWasdfasdfasdfaea')"
   ]
  },
  {
   "cell_type": "markdown",
   "metadata": {},
   "source": [
    "## 1.4 List Accumulation "
   ]
  },
  {
   "cell_type": "code",
   "execution_count": 16,
   "metadata": {},
   "outputs": [],
   "source": [
    "a = [x for x in range(10)]"
   ]
  },
  {
   "cell_type": "code",
   "execution_count": 17,
   "metadata": {},
   "outputs": [
    {
     "data": {
      "text/plain": [
       "[0, 1, 2, 3, 4, 5, 6, 7, 8, 9]"
      ]
     },
     "execution_count": 17,
     "metadata": {},
     "output_type": "execute_result"
    }
   ],
   "source": [
    "a"
   ]
  },
  {
   "cell_type": "code",
   "execution_count": 18,
   "metadata": {},
   "outputs": [],
   "source": [
    "def a(x):\n",
    "    temp = []\n",
    "    for i in range(x):\n",
    "        temp.append(i)\n",
    "    return temp"
   ]
  },
  {
   "cell_type": "code",
   "execution_count": 19,
   "metadata": {},
   "outputs": [],
   "source": [
    "def b(x):\n",
    "    return [a for a in range(x)]"
   ]
  },
  {
   "cell_type": "code",
   "execution_count": 20,
   "metadata": {},
   "outputs": [],
   "source": [
    "x = zip([1,2,3],['a','b','c'])"
   ]
  },
  {
   "cell_type": "code",
   "execution_count": 21,
   "metadata": {},
   "outputs": [
    {
     "data": {
      "text/plain": [
       "[(1, 'a'), (2, 'b'), (3, 'c')]"
      ]
     },
     "execution_count": 21,
     "metadata": {},
     "output_type": "execute_result"
    }
   ],
   "source": [
    "list(x)"
   ]
  },
  {
   "cell_type": "code",
   "execution_count": 22,
   "metadata": {},
   "outputs": [],
   "source": [
    "def x(a,b):\n",
    "    return [(a[i],b[i]) for i in range(min(len(a),len(b)))]"
   ]
  },
  {
   "cell_type": "code",
   "execution_count": 23,
   "metadata": {},
   "outputs": [
    {
     "data": {
      "text/plain": [
       "[(1, 3), (2, 4), (3, 1)]"
      ]
     },
     "execution_count": 23,
     "metadata": {},
     "output_type": "execute_result"
    }
   ],
   "source": [
    "x([1,2,3],[3,4,1,3])"
   ]
  },
  {
   "cell_type": "code",
   "execution_count": 24,
   "metadata": {},
   "outputs": [],
   "source": [
    "def rev(x):\n",
    "    temp = []\n",
    "    for i in x:\n",
    "        temp = [i] + temp\n",
    "    return temp\n",
    "\n",
    "def rev2(x):\n",
    "    return [x[-1-i] for i in range(len(x))]"
   ]
  },
  {
   "cell_type": "code",
   "execution_count": 25,
   "metadata": {},
   "outputs": [
    {
     "data": {
      "text/plain": [
       "[3, 2, 1]"
      ]
     },
     "execution_count": 25,
     "metadata": {},
     "output_type": "execute_result"
    }
   ],
   "source": [
    "rev2([1,2,3])"
   ]
  },
  {
   "cell_type": "markdown",
   "metadata": {},
   "source": [
    "## 1.5 Dictionary Accumulation "
   ]
  },
  {
   "cell_type": "code",
   "execution_count": 28,
   "metadata": {},
   "outputs": [],
   "source": [
    "Book = [1,1,2,5,6,2,1]"
   ]
  },
  {
   "cell_type": "code",
   "execution_count": 29,
   "metadata": {},
   "outputs": [
    {
     "name": "stdout",
     "output_type": "stream",
     "text": [
      "1 3\n",
      "2 2\n",
      "5 1\n",
      "6 1\n"
     ]
    }
   ],
   "source": [
    "Accum = { }\n",
    "for word in Book:\n",
    "    if word not in Accum: \n",
    "        Accum[word] = 0\n",
    "    Accum[word] += 1\n",
    "\n",
    "for word in Accum:\n",
    "    print(word,Accum[word])"
   ]
  },
  {
   "cell_type": "code",
   "execution_count": 32,
   "metadata": {},
   "outputs": [
    {
     "name": "stdout",
     "output_type": "stream",
     "text": [
      "1 3\n",
      "2 2\n",
      "5 1\n",
      "6 1\n"
     ]
    }
   ],
   "source": [
    "Accum = { }\n",
    "for word in Book:\n",
    "    Accum[word] = Accum.get(word,0) +1 \n",
    "\n",
    "for word in Accum:\n",
    "    print(word,Accum[word])"
   ]
  },
  {
   "cell_type": "markdown",
   "metadata": {},
   "source": [
    "## 1.6 Loops Using Iterables and Generators"
   ]
  },
  {
   "cell_type": "code",
   "execution_count": 9,
   "metadata": {},
   "outputs": [],
   "source": [
    "g = (c for c in \"fast\") \n",
    "while True:\n",
    "    try:\n",
    "        letter = next(g)\n",
    "        # (here would be statements for the body of the loop)\n",
    "    except StopIteration: \n",
    "        break"
   ]
  },
  {
   "cell_type": "markdown",
   "metadata": {},
   "source": [
    "## 1.7 Generator Loops"
   ]
  },
  {
   "cell_type": "code",
   "execution_count": 33,
   "metadata": {},
   "outputs": [
    {
     "name": "stdout",
     "output_type": "stream",
     "text": [
      "0\n",
      "1\n",
      "2\n",
      "3\n",
      "4\n"
     ]
    }
   ],
   "source": [
    "def mr(limit): \n",
    "    i=0\n",
    "    while i<limit:\n",
    "        yield i\n",
    "        i += 1\n",
    "        \n",
    "for k in mr(5):\n",
    "    print(k)"
   ]
  },
  {
   "cell_type": "markdown",
   "metadata": {},
   "source": [
    "## 2. Search Loop Pattern"
   ]
  },
  {
   "cell_type": "code",
   "execution_count": 35,
   "metadata": {},
   "outputs": [],
   "source": [
    "def b(iteable):\n",
    "    temp = 0\n",
    "    first = len(iteable)\n",
    "    while temp < 10:\n",
    "        ll = len(iteable)\n",
    "        temp = temp + iteable[0]\n",
    "        del iteable[0]\n",
    "    else:\n",
    "        print(first-ll)"
   ]
  },
  {
   "cell_type": "code",
   "execution_count": 36,
   "metadata": {},
   "outputs": [
    {
     "name": "stdout",
     "output_type": "stream",
     "text": [
      "2\n"
     ]
    }
   ],
   "source": [
    "b([1,2,9,2,9])"
   ]
  },
  {
   "cell_type": "markdown",
   "metadata": {},
   "source": [
    "- bool 반환 (True, False)\n",
    "- index 반환 (index)\n",
    "- break, continue\n",
    "  - 모두를 순회할 필요없이 특정 인덱스에서 멈춤\n",
    "  - Accumulation Pattern은 모든 값 순회"
   ]
  },
  {
   "cell_type": "markdown",
   "metadata": {},
   "source": [
    "## 2.1 Sequential Search"
   ]
  },
  {
   "cell_type": "code",
   "execution_count": 1,
   "metadata": {},
   "outputs": [],
   "source": [
    "def findCal(T):\n",
    "    for i in range(len(T)):\n",
    "        if 2<T[i]<7:\n",
    "            return i\n",
    "    return len(T)"
   ]
  },
  {
   "cell_type": "code",
   "execution_count": 4,
   "metadata": {},
   "outputs": [],
   "source": [
    " def findval(T,interval):\n",
    "    a,b = interval # a tuple like (2,7) \n",
    "    for i in range(len(T)):\n",
    "        if a<T[i]<b:\n",
    "            return i\n",
    "    return len(T) # failed to find"
   ]
  },
  {
   "cell_type": "markdown",
   "metadata": {},
   "source": [
    "## 2.2 Break and Continue"
   ]
  },
  {
   "cell_type": "code",
   "execution_count": 59,
   "metadata": {},
   "outputs": [],
   "source": [
    "def search(Alist,Blist,value):\n",
    "    for i in range(len(Alist)):\n",
    "        if Alist[i]==value:\n",
    "            break\n",
    "    if Alist[i]!=value:\n",
    "        return None\n",
    "    for k in range(len(Blist)):\n",
    "        if Blist[k]==value:\n",
    "            break\n",
    "    if Blist[k]!=value:\n",
    "        return None\n",
    "    return (i,k)"
   ]
  },
  {
   "cell_type": "code",
   "execution_count": 62,
   "metadata": {},
   "outputs": [],
   "source": [
    "search([1,3,2],[2,3,4],4)"
   ]
  },
  {
   "cell_type": "code",
   "execution_count": 63,
   "metadata": {},
   "outputs": [],
   "source": [
    "def pack(parts):\n",
    "    Total = 0\n",
    "    while len(parts) > 0:\n",
    "        if parts[0]+Total > 640:\n",
    "            break\n",
    "        Total += parts[0]\n",
    "        del parts[0]\n",
    "    return Total"
   ]
  },
  {
   "cell_type": "code",
   "execution_count": 67,
   "metadata": {},
   "outputs": [
    {
     "name": "stdout",
     "output_type": "stream",
     "text": [
      "[1, 3, 5, 7, 9, 11, 13, 15, 17, 19]\n"
     ]
    }
   ],
   "source": [
    "Accum = []\n",
    "for x in range(20):\n",
    "    if x%2==0:\n",
    "        continue\n",
    "    Accum.append(x)\n",
    "print(Accum)"
   ]
  },
  {
   "cell_type": "code",
   "execution_count": 68,
   "metadata": {},
   "outputs": [],
   "source": [
    "Q = [[2,1,9],3,[[6,7],0],[12,[5,[1,1],4],17],9]"
   ]
  },
  {
   "cell_type": "code",
   "execution_count": 69,
   "metadata": {},
   "outputs": [],
   "source": [
    "def recursum(List):\n",
    "    Accum = 0\n",
    "    for item in List:\n",
    "        if type(item) == int:\n",
    "            Accum += item\n",
    "            continue\n",
    "        Accum += recursum(item)\n",
    "    return Accum"
   ]
  },
  {
   "cell_type": "code",
   "execution_count": 71,
   "metadata": {},
   "outputs": [],
   "source": [
    "def loopsum(List):\n",
    "    Accum, Queue = 0,List[:]\n",
    "    # initial Queue is copy of List \n",
    "    while len(Queue)>0:\n",
    "        head = Queue[0]\n",
    "        del Queue[0]\n",
    "        if type(head) == int:\n",
    "            Accum += head\n",
    "        else: # head is a list\n",
    "            for item in head: \n",
    "                Queue.append(item)\n",
    "    return Accum"
   ]
  },
  {
   "cell_type": "code",
   "execution_count": 72,
   "metadata": {},
   "outputs": [
    {
     "data": {
      "text/plain": [
       "77"
      ]
     },
     "execution_count": 72,
     "metadata": {},
     "output_type": "execute_result"
    }
   ],
   "source": [
    "loopsum(Q)"
   ]
  },
  {
   "cell_type": "code",
   "execution_count": 74,
   "metadata": {},
   "outputs": [],
   "source": [
    "def loopsum2(List):\n",
    "    Accum, Queue = 0,List[:] \n",
    "    while len(Queue)>0:\n",
    "        head = Queue.pop(0) \n",
    "        if type(head) == int:\n",
    "            Accum += head\n",
    "        else: # head is a list\n",
    "            Queue.extend(head) \n",
    "    return Accum"
   ]
  },
  {
   "cell_type": "code",
   "execution_count": 75,
   "metadata": {},
   "outputs": [
    {
     "data": {
      "text/plain": [
       "77"
      ]
     },
     "execution_count": 75,
     "metadata": {},
     "output_type": "execute_result"
    }
   ],
   "source": [
    "loopsum2(Q)"
   ]
  },
  {
   "cell_type": "code",
   "execution_count": 78,
   "metadata": {},
   "outputs": [],
   "source": [
    "def recursum2(L):\n",
    "    S = str(L)\n",
    "    for char in \"[,]\":\n",
    "        S = S.replace(char,' ') \n",
    "    return sum(map(int,S.split()))"
   ]
  },
  {
   "cell_type": "code",
   "execution_count": 77,
   "metadata": {},
   "outputs": [
    {
     "data": {
      "text/plain": [
       "77"
      ]
     },
     "execution_count": 77,
     "metadata": {},
     "output_type": "execute_result"
    }
   ],
   "source": [
    "recursum(Q)"
   ]
  },
  {
   "cell_type": "code",
   "execution_count": 64,
   "metadata": {},
   "outputs": [],
   "source": [
    "def sum2(nums):\n",
    "# Not very efficient in Python but you got the idea \n",
    "    return 0 if len(nums) == 0 else nums[0] + sum2(nums[1:])"
   ]
  }
 ],
 "metadata": {
  "kernelspec": {
   "display_name": "Python 3",
   "language": "python",
   "name": "python3"
  },
  "language_info": {
   "codemirror_mode": {
    "name": "ipython",
    "version": 3
   },
   "file_extension": ".py",
   "mimetype": "text/x-python",
   "name": "python",
   "nbconvert_exporter": "python",
   "pygments_lexer": "ipython3",
   "version": "3.7.0"
  },
  "varInspector": {
   "cols": {
    "lenName": 16,
    "lenType": 16,
    "lenVar": 40
   },
   "kernels_config": {
    "python": {
     "delete_cmd_postfix": "",
     "delete_cmd_prefix": "del ",
     "library": "var_list.py",
     "varRefreshCmd": "print(var_dic_list())"
    },
    "r": {
     "delete_cmd_postfix": ") ",
     "delete_cmd_prefix": "rm(",
     "library": "var_list.r",
     "varRefreshCmd": "cat(var_dic_list()) "
    }
   },
   "types_to_exclude": [
    "module",
    "function",
    "builtin_function_or_method",
    "instance",
    "_Feature"
   ],
   "window_display": false
  }
 },
 "nbformat": 4,
 "nbformat_minor": 2
}

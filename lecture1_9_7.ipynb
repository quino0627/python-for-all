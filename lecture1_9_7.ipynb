{
 "cells": [
  {
   "cell_type": "markdown",
   "metadata": {},
   "source": [
    "## 주피터 노트북 사용법\n",
    "## 마크다운 기본문법\n",
    "##### 2018년 9월 7일 금요일\n",
    "\n",
    "언어는 도구적 관점으로 접근\n",
    "파이썬도 다른 언어처럼 장점도 있고 단점도 있다.\n",
    "MountyPython 에서 따 왔다\n",
    "~을 위한 지침서? 42 ASCII : *\n",
    "\n",
    "## 사용하는 이유 : 생산성\n",
    "- Multi Paradigm\n",
    "함수형언어형식도 지원한다.\n",
    "The same problem can be solved and expressed in different ways\n",
    "- Glue Language\n",
    "cython - 속도가 느린 부분 제거\n",
    "PyPy - 파이썬으로 만든 파이썬\n",
    "- Library & Tool\n",
    "- General Purpose\n",
    "\n",
    "## Python 개발 환경\n",
    "- python2는 2020년에 종료\n",
    "- 2버전은 유니코드가 아닌 바이트코드를 사용하여 속도가 빨랐으나, 3.4 이후로 3버전이 많은 속도 개선이 이루어짐\n",
    "- Jupyter을 사용할 것\n",
    "- 이론은 시험에 나오지 않으니까 참고삼아 볼 것\n",
    "- 웹 인터페이스를 제공"
   ]
  },
  {
   "cell_type": "markdown",
   "metadata": {},
   "source": [
    "# 제목 "
   ]
  },
  {
   "cell_type": "markdown",
   "metadata": {},
   "source": [
    "## 제목"
   ]
  },
  {
   "cell_type": "markdown",
   "metadata": {},
   "source": [
    "### 제목"
   ]
  },
  {
   "cell_type": "markdown",
   "metadata": {},
   "source": [
    "- h : 단축키 정리\n",
    "- 123456 #, ##, ###, ...\n",
    "- y ->파이썬 코딩, m ->마크다운 작성\n",
    "\n",
    "---\n",
    "- 빼기 세 개는 밑줄\n",
    "- 빼기 하나는 list목록 생성\n",
    "    - tab - 는 인덴트\n",
    "\n",
    "- L : line number\n",
    "- A :위에 셀 추가\n",
    "- B : 아래에 셀 추가\n",
    "- DD :셀 삭제\n",
    "- E D: 주피터 버전에 따라 지원or지원x\n",
    "- command + shift + p : 명령어 검색(명령어 팔레트)\n",
    "- 코드 작성 모드에서 tab 누르면 자동완성\n",
    "\n",
    "별표하나 italic\n",
    "별표두개 bold\n",
    "_** 이탤릭볼드**_\n",
    "~~줄긋기~~"
   ]
  },
  {
   "cell_type": "markdown",
   "metadata": {},
   "source": [
    "1. list1\n",
    "2. list2\n",
    "    - list3 숫자와 점의 중첩 가능"
   ]
  },
  {
   "cell_type": "code",
   "execution_count": 1,
   "metadata": {},
   "outputs": [],
   "source": [
    "import antigravity"
   ]
  },
  {
   "cell_type": "code",
   "execution_count": 2,
   "metadata": {},
   "outputs": [
    {
     "name": "stdout",
     "output_type": "stream",
     "text": [
      "The Zen of Python, by Tim Peters\n",
      "\n",
      "Beautiful is better than ugly.\n",
      "Explicit is better than implicit.\n",
      "Simple is better than complex.\n",
      "Complex is better than complicated.\n",
      "Flat is better than nested.\n",
      "Sparse is better than dense.\n",
      "Readability counts.\n",
      "Special cases aren't special enough to break the rules.\n",
      "Although practicality beats purity.\n",
      "Errors should never pass silently.\n",
      "Unless explicitly silenced.\n",
      "In the face of ambiguity, refuse the temptation to guess.\n",
      "There should be one-- and preferably only one --obvious way to do it.\n",
      "Although that way may not be obvious at first unless you're Dutch.\n",
      "Now is better than never.\n",
      "Although never is often better than *right* now.\n",
      "If the implementation is hard to explain, it's a bad idea.\n",
      "If the implementation is easy to explain, it may be a good idea.\n",
      "Namespaces are one honking great idea -- let's do more of those!\n"
     ]
    }
   ],
   "source": [
    "import this"
   ]
  },
  {
   "cell_type": "markdown",
   "metadata": {},
   "source": [
    "파이썬의 철학을 담고 있는 구문"
   ]
  },
  {
   "cell_type": "markdown",
   "metadata": {},
   "source": [
    "shift + tab 1번, 두번, 네번"
   ]
  },
  {
   "cell_type": "code",
   "execution_count": 2,
   "metadata": {},
   "outputs": [],
   "source": [
    "import this"
   ]
  }
 ],
 "metadata": {
  "kernelspec": {
   "display_name": "Python 3",
   "language": "python",
   "name": "python3"
  },
  "language_info": {
   "codemirror_mode": {
    "name": "ipython",
    "version": 3
   },
   "file_extension": ".py",
   "mimetype": "text/x-python",
   "name": "python",
   "nbconvert_exporter": "python",
   "pygments_lexer": "ipython3",
   "version": "3.6.5"
  }
 },
 "nbformat": 4,
 "nbformat_minor": 2
}

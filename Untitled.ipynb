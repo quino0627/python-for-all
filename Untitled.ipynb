{
 "cells": [
  {
   "cell_type": "code",
   "execution_count": 1,
   "metadata": {},
   "outputs": [],
   "source": [
    "from random import *"
   ]
  },
  {
   "cell_type": "code",
   "execution_count": 23,
   "metadata": {},
   "outputs": [
    {
     "name": "stdout",
     "output_type": "stream",
     "text": [
      "[]\n",
      "[12, 14, 9, 13, 9, 8, 5, 4, 9, 12]\n",
      "[6, 5, 7, 17, 2, 10, 15, 18, 13, 20]\n",
      "[9, 10, 8, 9, 20, 5, 13, 14, 12, 9]\n",
      "[16, 17, 12, 4, 8, 16, 16, 10, 17, 6, 15, 10, 10]\n",
      "[9, 12, 4, 1, 4, 10, 11, 17]\n"
     ]
    }
   ],
   "source": [
    "a = list()\n",
    "print(a)\n",
    "for j in range(5):\n",
    "    for i in range(randint(5,14)):\n",
    "        f = randint(1,20)\n",
    "        a.append(f)\n",
    "    print(a)\n",
    "    a = []"
   ]
  },
  {
   "cell_type": "code",
   "execution_count": null,
   "metadata": {},
   "outputs": [],
   "source": []
  }
 ],
 "metadata": {
  "kernelspec": {
   "display_name": "Python 3",
   "language": "python",
   "name": "python3"
  },
  "language_info": {
   "codemirror_mode": {
    "name": "ipython",
    "version": 3
   },
   "file_extension": ".py",
   "mimetype": "text/x-python",
   "name": "python",
   "nbconvert_exporter": "python",
   "pygments_lexer": "ipython3",
   "version": "3.6.5"
  }
 },
 "nbformat": 4,
 "nbformat_minor": 2
}

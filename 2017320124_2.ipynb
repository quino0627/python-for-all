{
 "cells": [
  {
   "cell_type": "markdown",
   "metadata": {},
   "source": [
    "# 1.\n",
    "```python \n",
    "10%7점\n",
    "```"
   ]
  },
  {
   "cell_type": "markdown",
   "metadata": {},
   "source": [
    "---"
   ]
  },
  {
   "cell_type": "markdown",
   "metadata": {},
   "source": [
    "```\n",
    "Create a program that reads two integers, a and b, from the user. Your program should compute and display:\n",
    "• The sum of a and b\n",
    "• The difference when b is subtracted from a \n",
    "• The product of a and b\n",
    " • The quotient when a is divided by b\n",
    "• The remainder when a is divided by b\n",
    "• The result of log10 a\n",
    "• The result of ab\n",
    "```"
   ]
  },
  {
   "cell_type": "code",
   "execution_count": 26,
   "metadata": {},
   "outputs": [
    {
     "name": "stdout",
     "output_type": "stream",
     "text": [
      "input a :10\n",
      "input b :20\n",
      "a+b :  30\n",
      "a-b :  -10\n",
      "a*b :  200\n",
      "a%b :  10\n",
      "log10 a :  1.0\n",
      "ab :  200\n"
     ]
    }
   ],
   "source": [
    "import math\n",
    "a = int(input(\"input a :\"))\n",
    "b = int(input(\"input b :\"))\n",
    "print('a+b : ', a+b)\n",
    "print('a-b : ', a-b)\n",
    "print('a*b : ', a*b)\n",
    "print('a%b : ', a%b)\n",
    "print('log10 a : ', math.log10(a))\n",
    "print('ab : ',a*b)\n",
    "\n"
   ]
  },
  {
   "cell_type": "markdown",
   "metadata": {},
   "source": [
    "## 2. \n",
    "```python\n",
    "(True-False+True+True)**2 //3 점\n",
    "이 문제는 금요일 수업 시간에 다시 복습할 내용입니다. 과제로 Markdown을 활용해서 다음 내용을 정리하세요\n",
    "```"
   ]
  },
  {
   "cell_type": "markdown",
   "metadata": {},
   "source": [
    "---"
   ]
  },
  {
   "cell_type": "markdown",
   "metadata": {},
   "source": [
    "```\n",
    "□ variable(변수)보다 왜 identifier(식별자 or name)라고 하는지?\n",
    "□ constant(상수)와 variable의 차이는?\n",
    "□ identifier를 명명하는 규칙은? \n",
    "□ 선언(Declaration)과 할당(Assignment)이란?\n",
    "□ statement(문)와 expression이란?\n",
    "□ = (할당)을 하는 방법\n",
    "□ = 을 했을 때, Python 내부에서 일어나는 일은?\n",
    "□ dynamic typing이란?\n",
    "□ literal 이란?\n",
    "□ literal을 통해서 value(값)을 생성하는 것과 instance화해서 value를 생성하는 것이 차이나는 type은?\n",
    "```"
   ]
  },
  {
   "cell_type": "markdown",
   "metadata": {},
   "source": [
    "   - 변수보다 왜 식별자라고 하는가?\n",
    "       - 파이썬은 모든 것이 객체이므로 변수보다는 식별자라고 한다.\n",
    "   - constant 는 immutable이고 variable은 mutable\n",
    "   - identifier 명명 규칙\n",
    "       - 첫 글자는 숫자 안됨. 두번째글자부터 숫자 가능\n",
    "       - 유니코드로도 변수이름을 지을 수 있지만 사용하지 말 것\n",
    "       - _ 로 시작하지 말 것(파이썬에서는 다른 의미를 가짐)\n",
    "       - 두단어 이상을 붙일 때는 camelCase표기법을 사용\n",
    "       -  예약어로 변수명을 사용할 수 없다.\n",
    "       - = 사이에 빈 칸을 하나씩 둘 것\n",
    "   - 선언과 할당이란\n",
    "       - 선언은 재사용이 가능한 독립적인 단위를 정의하는 것\n",
    "       - 할당은 identifier과 value를 binding하는 것\n",
    "   - statement와 expression이란\n",
    "       - expresstion : 값들과 연산자를 함께 사용해서 표현한 것\n",
    "       - statement : 예약어와 표현식을 결합한 패턴\n",
    "   - 할당을 하는 방법\n",
    "       - Simple assignment\n",
    "       - Assignment of single value to multiple targets\n",
    "       - Assignment of multiple values to multiple targets\n",
    "       - Augmented assignment\n",
    "       - Global assignment from with a function\n",
    "   - =을 했을 때 파이썬 내부에서 일어나는 일은?\n",
    "       - 값에 identifier를 이름 붙임\n",
    "   - dynamic typing이란?\n",
    "       - 실행하는 시점에서 변수의 타입을 고려하는 방식\n",
    "   - literal이란?\n",
    "       - 값, 기호로 고정된 값을 대표하는 것, 간단하게 값을 생성할 수 있다.\n",
    "   - literal을 통해서 value을 생성하는 것과 instance화해서 value를 생성하는 것이 차이나는 type은?\n",
    "       - dictionary 타입"
   ]
  },
  {
   "cell_type": "markdown",
   "metadata": {},
   "source": [
    "---"
   ]
  },
  {
   "cell_type": "markdown",
   "metadata": {},
   "source": [
    "# 3.\n",
    "```python\n",
    "1e-1000 + 2점\n",
    "```"
   ]
  },
  {
   "cell_type": "markdown",
   "metadata": {},
   "source": [
    "---"
   ]
  },
  {
   "cell_type": "markdown",
   "metadata": {},
   "source": [
    "```\n",
    "Develop a program that begins by reading a number of seconds from the user. Then your program should display the equivalent amount of time in the form D:HH:MM:SS, where D, HH, MM, and SS represent days, hours, minutes and seconds respectively. \n",
    "```"
   ]
  },
  {
   "cell_type": "code",
   "execution_count": 30,
   "metadata": {},
   "outputs": [
    {
     "name": "stdout",
     "output_type": "stream",
     "text": [
      "input seconds : 1678\n",
      "27\n",
      "0\n",
      "0\n",
      "0:0:27:58\n"
     ]
    }
   ],
   "source": [
    "time = int(input(\"input seconds : \"))\n",
    "sec = time % 60\n",
    "time //= 60\n",
    "print(time)\n",
    "minu = time % 60\n",
    "time //= 60\n",
    "print(time)\n",
    "hour = time % 60\n",
    "time //=60\n",
    "print(time)\n",
    "day = time\n",
    "print(\"%d:%d:%d:%d\" % (day,hour, minu, sec))"
   ]
  },
  {
   "cell_type": "markdown",
   "metadata": {},
   "source": [
    "---"
   ]
  },
  {
   "cell_type": "markdown",
   "metadata": {},
   "source": [
    "# 4. \n",
    "```python \n",
    "if you in ['모두를위한파이썬'] : print(5) 점\n",
    "```"
   ]
  },
  {
   "cell_type": "markdown",
   "metadata": {},
   "source": [
    "다음 link에서 [3.1. 파이썬을 계산기로 사용하기]의 code를 jupyter notebook에서 실행시켜 보세요. \n",
    "_ 의 의미와, 문자열 일부 내용은 아직 수업 시간에 하지 않았습니다. 만약 이해가 가질 않는다면 실행이라도"
   ]
  },
  {
   "cell_type": "markdown",
   "metadata": {},
   "source": [
    "https://docs.python.org/ko/3/tutorial/introduction.html"
   ]
  },
  {
   "cell_type": "code",
   "execution_count": 19,
   "metadata": {},
   "outputs": [
    {
     "name": "stdout",
     "output_type": "stream",
     "text": [
      "0,1,1,2,3,5,8,13,21,34,55,89,144,233,377,610,987,"
     ]
    }
   ],
   "source": [
    "a, b = 0, 1\n",
    "while a < 1000:\n",
    "    print(a, end=',')\n",
    "    a, b = b, a+b"
   ]
  }
 ],
 "metadata": {
  "kernelspec": {
   "display_name": "Python 3",
   "language": "python",
   "name": "python3"
  },
  "language_info": {
   "codemirror_mode": {
    "name": "ipython",
    "version": 3
   },
   "file_extension": ".py",
   "mimetype": "text/x-python",
   "name": "python",
   "nbconvert_exporter": "python",
   "pygments_lexer": "ipython3",
   "version": "3.6.5"
  }
 },
 "nbformat": 4,
 "nbformat_minor": 2
}

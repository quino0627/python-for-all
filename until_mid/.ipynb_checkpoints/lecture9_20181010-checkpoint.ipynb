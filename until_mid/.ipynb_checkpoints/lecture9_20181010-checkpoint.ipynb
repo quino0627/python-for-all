{
 "cells": [
  {
   "cell_type": "markdown",
   "metadata": {},
   "source": [
    "2A autoration, abstraction"
   ]
  },
  {
   "cell_type": "code",
   "execution_count": 2,
   "metadata": {},
   "outputs": [],
   "source": [
    "#for 다음에 임시 변수 in 다음에 iterable올 것\n",
    "#iterable이 무엇인가\n",
    "#자기가 여러 개의 원소를 가지고 있는 것\n",
    "# 콜론 쓰기\n",
    "#pass\n",
    "for i in 'iterable':\n",
    "    pass #나중에 구현할 테니 모양만 맞출 것이다\n",
    "for i in 'abcdef':\n",
    "    pass\n",
    "#스트링, 리스트, 튜플, 셋, 딕셔너리(딕셔너리는 약간 다르다) , 레인지 이러한 것이 올 수 있다."
   ]
  },
  {
   "cell_type": "code",
   "execution_count": 14,
   "metadata": {},
   "outputs": [
    {
     "name": "stdout",
     "output_type": "stream",
     "text": [
      "qcwo;ixnweoiqhfouq\n",
      "o\n",
      "i\n",
      "e\n",
      "o\n",
      "i\n",
      "o\n",
      "u\n",
      "['o', 'i', 'e', 'o', 'i', 'o', 'u']\n",
      "False\n"
     ]
    }
   ],
   "source": [
    "#all() #한개씩 끄집어내서 참인지 거짓인지 확인하여 전체가 참이면 참 리턴 거짓이 있으면 거짓 리턴\n",
    "#any() #하나라도 true가 있으면 true반환\n",
    "a = input() #a의 타입은 str (str은 이터러블이므로 for, in 뒤에 쓸 수 있다.)\n",
    "for i in a:\n",
    "#     if i == 'a' || i == 'e' || i == 'i' || i == 'o' || i == 'u'\n",
    "#     print(i)\n",
    "    if i in ['a','e','i','o','u']:\n",
    "        print(i)\n",
    "#accumulating pattern\n",
    "temp = []\n",
    "for i in a:\n",
    "    if i in ['a','e','i','o','u']:\n",
    "        temp.append(i)\n",
    "print(temp)\n",
    "\n",
    "x = ['a','bd',None]\n",
    "temp = False\n",
    "#all(x)\n",
    "for i in x:\n",
    "    if i :\n",
    "        temp = True\n",
    "    else:\n",
    "        temp = False\n",
    "        break\n",
    "print(temp)\n",
    "        "
   ]
  },
  {
   "cell_type": "code",
   "execution_count": 18,
   "metadata": {},
   "outputs": [
    {
     "name": "stdout",
     "output_type": "stream",
     "text": [
      "55\n",
      "range(0, 10)\n"
     ]
    }
   ],
   "source": [
    "sum_ = 0\n",
    "for i in range(1,11):\n",
    "    sum_ += i\n",
    "else:\n",
    "    print(sum_)\n",
    "    print(range(10))"
   ]
  },
  {
   "cell_type": "code",
   "execution_count": 20,
   "metadata": {},
   "outputs": [
    {
     "name": "stdout",
     "output_type": "stream",
     "text": [
      "odd\n",
      "odd\n",
      "odd\n",
      "odd\n",
      "odd\n",
      "9\n"
     ]
    }
   ],
   "source": [
    "#식별자라고 쓰는 이유 함수도 할당이 되고 클래스도 할당이 되고 키워드 빼고 다 할당이 되기 때문에 변수라는 이름 보다는 식별자라고 이름을 쓴다.\n",
    "for i in range(10):\n",
    "    if i%2==0:\n",
    "        break #else실행 안됨\n",
    "else:\n",
    "    print(i)\n",
    "    \n",
    "#continue\n",
    "for i in range(10):\n",
    "    if i%2 == 0:\n",
    "        continue\n",
    "        print(\"even\")\n",
    "    else:\n",
    "        print('odd')\n",
    "else:\n",
    "    print(i)"
   ]
  },
  {
   "cell_type": "code",
   "execution_count": 28,
   "metadata": {},
   "outputs": [
    {
     "ename": "SyntaxError",
     "evalue": "invalid syntax (<ipython-input-28-e512841f3fa1>, line 4)",
     "output_type": "error",
     "traceback": [
      "\u001b[0;36m  File \u001b[0;32m\"<ipython-input-28-e512841f3fa1>\"\u001b[0;36m, line \u001b[0;32m4\u001b[0m\n\u001b[0;31m    %%time\u001b[0m\n\u001b[0m    ^\u001b[0m\n\u001b[0;31mSyntaxError\u001b[0m\u001b[0;31m:\u001b[0m invalid syntax\n"
     ]
    }
   ],
   "source": [
    "#짝수의 값 구하기\n",
    "\n",
    "sum_ = 0\n",
    "%%time\n",
    "for i in range(10):\n",
    "    if i%2==0:\n",
    "        sum_ += i\n",
    "else:\n",
    "    print(sum_)\n",
    "    \n",
    "\n",
    "sum2 = 0\n",
    "%%time\n",
    "for i in range(0,10,2):\n",
    "    sum2 += i\n",
    "else:\n",
    "    print(sum2)"
   ]
  },
  {
   "cell_type": "code",
   "execution_count": 31,
   "metadata": {},
   "outputs": [
    {
     "name": "stdout",
     "output_type": "stream",
     "text": [
      "a\n",
      "2\n",
      "1\n",
      "a\n",
      "('a', 1)\n",
      "(2, 'a')\n"
     ]
    }
   ],
   "source": [
    "xxx = {'a':1, 2:'a'}\n",
    "for i in xxx:#딕셔너리 체크는 value값으로한다\n",
    "    print(i)\n",
    "for i in xxx.values():\n",
    "    print(i)\n",
    "for i in xxx.items():\n",
    "    print(i) #결과가 tuple로 나옴"
   ]
  },
  {
   "cell_type": "code",
   "execution_count": 32,
   "metadata": {},
   "outputs": [
    {
     "name": "stdout",
     "output_type": "stream",
     "text": [
      "a\n",
      "1\n",
      "2\n",
      "a\n"
     ]
    }
   ],
   "source": [
    "#doc.python.org\n",
    "#view라고한다\n",
    "#할당에서는 7가지\n",
    "#현재는 5가지\n",
    "# 프로그래밍 패러다임이 크게 두가지 명령형과 선언형\n",
    "#명령형은 변수를 어떻게 할당하고 변화시키는가가 핵심\n",
    "#파이썬 할당은 조금 복잡\n",
    "#a = 1\n",
    "#a = b = c = 1 #c, c++ 과 다른 할당\n",
    "#augmentation할당\n",
    "#각각 할당 a,b=1,2\n",
    "for i,j in xxx.items():#괄호로 묶인 것을 쪼개는 의미에서 unpacking이라고 한다.\n",
    "    print(i)\n",
    "    print(j)"
   ]
  },
  {
   "cell_type": "code",
   "execution_count": 33,
   "metadata": {},
   "outputs": [
    {
     "name": "stdout",
     "output_type": "stream",
     "text": [
      "(0, 'a')\n",
      "(1, 'b')\n",
      "(2, 'c')\n",
      "(3, 'd')\n",
      "(4, 'e')\n",
      "(5, 'f')\n"
     ]
    }
   ],
   "source": [
    "for i in enumerate('abcdef'):\n",
    "    print(i)"
   ]
  },
  {
   "cell_type": "code",
   "execution_count": 38,
   "metadata": {
    "scrolled": true
   },
   "outputs": [
    {
     "name": "stdout",
     "output_type": "stream",
     "text": [
      "(1, 'a')\n",
      "(2, 'b')\n",
      "(3, 'c')\n",
      "(4, 'd')\n",
      "(5, 'e')\n",
      "(6, 'f')\n",
      "0 a\n",
      "1 b\n",
      "2 c\n",
      "3 d\n",
      "4 e\n",
      "5 d\n"
     ]
    }
   ],
   "source": [
    "for i in enumerate('abcdef',1):\n",
    "    print(i)\n",
    "for i,j in enumerate('abcded'):\n",
    "    print(i,j)"
   ]
  },
  {
   "cell_type": "code",
   "execution_count": 41,
   "metadata": {},
   "outputs": [
    {
     "name": "stdout",
     "output_type": "stream",
     "text": [
      "end\n"
     ]
    }
   ],
   "source": [
    "for i in '':\n",
    "    print(i)\n",
    "else:\n",
    "    print('end')\n",
    "#시작부터 반복이 안되어도 else가 찍힘\n",
    "#중단될 때만 else가 찍히지 않음"
   ]
  },
  {
   "cell_type": "code",
   "execution_count": 45,
   "metadata": {},
   "outputs": [
    {
     "name": "stdout",
     "output_type": "stream",
     "text": [
      "0\n",
      "1\n",
      "2\n",
      "3\n",
      "4\n",
      "5\n",
      "6\n",
      "7\n",
      "8\n",
      "9\n"
     ]
    }
   ],
   "source": [
    "x = 0\n",
    "while x<10:\n",
    "    print(x)\n",
    "    x+=1\n",
    "    "
   ]
  },
  {
   "cell_type": "code",
   "execution_count": null,
   "metadata": {},
   "outputs": [],
   "source": [
    "# for is more beautiful\n",
    "# object oriented\n",
    "# for으로 다 할 수 있음\n",
    "#와일도 패스 엘스 브레잌 컨티뉴 쓸 수 있음"
   ]
  }
 ],
 "metadata": {
  "kernelspec": {
   "display_name": "Python 3",
   "language": "python",
   "name": "python3"
  },
  "language_info": {
   "codemirror_mode": {
    "name": "ipython",
    "version": 3
   },
   "file_extension": ".py",
   "mimetype": "text/x-python",
   "name": "python",
   "nbconvert_exporter": "python",
   "pygments_lexer": "ipython3",
   "version": "3.6.5"
  }
 },
 "nbformat": 4,
 "nbformat_minor": 2
}

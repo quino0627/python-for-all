{
 "cells": [
  {
   "cell_type": "markdown",
   "metadata": {},
   "source": [
    "\n",
    "### 1. mutable/immutable, sequence, iterable의 개념을 정리하시오. (5점)\n",
    "용어집(https://docs.python.org/ko/3/glossary.html)에 있는 내용을 참고하고, 수업 시간에 한 내용을 중심으로\n",
    "- mutable/immutable: mutable은 값이 변할 수 있는 가변 객체, immutable은 값이 변할 수 없이 고정된 객체를 의미합니다.\n",
    "- sequence: 순서가 중요한 유형으로 indexing과 slicing, for 을 사용할 수 있는 형식입니다.\n",
    "- iterable: 여러개의 원소를 가진 것에서 멤버들을 하나씩 꺼내 쓸 수 있는 객체를 의미합니다. 예로는 list, str, tuple 등이 있습니다.\n",
    "\n",
    "### 2. 수업 시간에 배운 다양한 type을 다음 표(아래로 계속)로 만들어서 정리하시오. (5점)"
   ]
  },
  {
   "cell_type": "markdown",
   "metadata": {},
   "source": [
    "| type | mutable | sequence | iterable | \n",
    "|------|------|------|------|\n",
    "| int | X | X | X | \n",
    "| float| X | X | X |\n",
    "| bool | X | X | X | \n",
    "| list | 0 | 0 | 0 | \n",
    "| tuple | X | 0 | 0 | \n",
    "| str | X | 0 | 0 | \n",
    "| bytes | X | 0 | 0 | \n",
    "| bytearray | 0 | 0 | 0 | "
   ]
  },
  {
   "cell_type": "markdown",
   "metadata": {},
   "source": [
    "### 3. 다음을 노트북에서 직접 코드를 입력하고 확인하시오. (5점)\n",
    "- 3.2 https://docs.python.org/ko/3/tutorial/introduction.html\n",
    "- 4.1 / 4.2 / 4.3 / 4.4 / 4.5 https://docs.python.org/ko/3/tutorial/controlflow.html\n",
    "- 5 https://docs.python.org/ko/3/tutorial/datastructures.html"
   ]
  },
  {
   "cell_type": "code",
   "execution_count": 1,
   "metadata": {},
   "outputs": [
    {
     "name": "stdout",
     "output_type": "stream",
     "text": [
      "0\n",
      "1\n",
      "1\n",
      "2\n",
      "3\n",
      "5\n",
      "8\n"
     ]
    }
   ],
   "source": [
    "a, b = 0, 1\n",
    "while a < 10:\n",
    "    print(a)\n",
    "    a, b = b, a+b"
   ]
  },
  {
   "cell_type": "code",
   "execution_count": 2,
   "metadata": {},
   "outputs": [
    {
     "name": "stdout",
     "output_type": "stream",
     "text": [
      "Pelase enter an integer: 42\n"
     ]
    }
   ],
   "source": [
    "x = int(input(\"Pelase enter an integer: \"))"
   ]
  },
  {
   "cell_type": "code",
   "execution_count": 4,
   "metadata": {},
   "outputs": [
    {
     "name": "stdout",
     "output_type": "stream",
     "text": [
      "More\n"
     ]
    }
   ],
   "source": [
    "if x < 0:\n",
    "    x = 0\n",
    "    print('Negative changed to zero')\n",
    "elif x == 0:\n",
    "    print('Zero')\n",
    "elif x == 1:\n",
    "    print('Single')\n",
    "else:\n",
    "    print('More')"
   ]
  },
  {
   "cell_type": "code",
   "execution_count": 5,
   "metadata": {},
   "outputs": [
    {
     "name": "stdout",
     "output_type": "stream",
     "text": [
      "cat 3\n",
      "window 6\n",
      "defenestrate 12\n"
     ]
    }
   ],
   "source": [
    "words = ['cat', 'window', 'defenestrate']\n",
    "for w in words:\n",
    "    print(w, len(w))"
   ]
  },
  {
   "cell_type": "code",
   "execution_count": 6,
   "metadata": {},
   "outputs": [
    {
     "data": {
      "text/plain": [
       "['defenestrate', 'cat', 'window', 'defenestrate']"
      ]
     },
     "execution_count": 6,
     "metadata": {},
     "output_type": "execute_result"
    }
   ],
   "source": [
    "for w in words[:]:\n",
    "    if len(w) > 6:\n",
    "        words.insert(0,w)\n",
    "words"
   ]
  },
  {
   "cell_type": "code",
   "execution_count": 7,
   "metadata": {},
   "outputs": [
    {
     "name": "stdout",
     "output_type": "stream",
     "text": [
      "0\n",
      "1\n",
      "2\n",
      "3\n",
      "4\n"
     ]
    }
   ],
   "source": [
    "for i in range(5):\n",
    "    print(i)"
   ]
  },
  {
   "cell_type": "code",
   "execution_count": 9,
   "metadata": {},
   "outputs": [
    {
     "name": "stdout",
     "output_type": "stream",
     "text": [
      "0 Mary\n",
      "1 had\n",
      "2 a\n",
      "3 little\n",
      "4 lamb\n"
     ]
    }
   ],
   "source": [
    "a = ['Mary', 'had', 'a', 'little', 'lamb']\n",
    "for i in range(len(a)):\n",
    "    print(i, a[i])"
   ]
  },
  {
   "cell_type": "code",
   "execution_count": 10,
   "metadata": {},
   "outputs": [
    {
     "name": "stdout",
     "output_type": "stream",
     "text": [
      "range(0, 10)\n"
     ]
    }
   ],
   "source": [
    "print(range(10))"
   ]
  },
  {
   "cell_type": "code",
   "execution_count": 11,
   "metadata": {},
   "outputs": [
    {
     "data": {
      "text/plain": [
       "[0, 1, 2, 3, 4]"
      ]
     },
     "execution_count": 11,
     "metadata": {},
     "output_type": "execute_result"
    }
   ],
   "source": [
    "list(range(5))"
   ]
  },
  {
   "cell_type": "code",
   "execution_count": 12,
   "metadata": {},
   "outputs": [
    {
     "name": "stdout",
     "output_type": "stream",
     "text": [
      "2 is a prime number\n",
      "3 is a prime number\n",
      "4 equals 2 * 2\n",
      "5 is a prime number\n",
      "6 equals 2 * 3\n",
      "7 is a prime number\n",
      "8 equals 2 * 4\n",
      "9 equals 3 * 3\n"
     ]
    }
   ],
   "source": [
    "for n in range(2, 10):\n",
    "    for x in range(2, n):\n",
    "        if n % x == 0:\n",
    "            print(n, 'equals', x, '*', n//x)\n",
    "            break\n",
    "    else:\n",
    "        print(n, 'is a prime number')"
   ]
  },
  {
   "cell_type": "code",
   "execution_count": 13,
   "metadata": {},
   "outputs": [
    {
     "name": "stdout",
     "output_type": "stream",
     "text": [
      "Found an even number 2\n",
      "Found a number 3\n",
      "Found an even number 4\n",
      "Found a number 5\n",
      "Found an even number 6\n",
      "Found a number 7\n",
      "Found an even number 8\n",
      "Found a number 9\n"
     ]
    }
   ],
   "source": [
    "for num in range(2, 10):\n",
    "    if num % 2 == 0:\n",
    "        print(\"Found an even number\", num)\n",
    "        continue\n",
    "    print(\"Found a number\", num)"
   ]
  },
  {
   "cell_type": "code",
   "execution_count": 1,
   "metadata": {},
   "outputs": [
    {
     "data": {
      "text/plain": [
       "2"
      ]
     },
     "execution_count": 1,
     "metadata": {},
     "output_type": "execute_result"
    }
   ],
   "source": [
    "fruits = ['orange', 'apple', 'pear', 'banana', 'kiwi', 'apple', 'banana']\n",
    "fruits.count('apple')"
   ]
  },
  {
   "cell_type": "markdown",
   "metadata": {},
   "source": [
    "### 4. 블랙보드 강의자료 PEP8 참고자료와 4.8 https://docs.python.org/ko/3/tutorial/controlflow.html#intermezzo-coding-style 를 읽어보세요.\n",
    "- "
   ]
  },
  {
   "cell_type": "markdown",
   "metadata": {},
   "source": [
    "### 5. 다음의 코드를 개선하시오 (5점)"
   ]
  },
  {
   "cell_type": "markdown",
   "metadata": {},
   "source": [
    "#### 5-1\n",
    "```python\n",
    "    if a< b:\n",
    "        if c < 5:\n",
    "            print(\"hello\")\n",
    "```"
   ]
  },
  {
   "cell_type": "code",
   "execution_count": 2,
   "metadata": {},
   "outputs": [
    {
     "name": "stdout",
     "output_type": "stream",
     "text": [
      "hello\n"
     ]
    }
   ],
   "source": [
    "a,b,c = 1,2,3\n",
    "if a < b and c < 5 :\n",
    "    print(\"hello\")"
   ]
  },
  {
   "cell_type": "markdown",
   "metadata": {},
   "source": [
    "#### 5-2\n",
    "```python\n",
    "    if (name == \"John\") or (name == \"George\") or \\\n",
    "        (name == \"Paul\") or (name == \"Ringo\"):\n",
    "        flag = True\n",
    "    else:\n",
    "        flag = False\n",
    "```"
   ]
  },
  {
   "cell_type": "markdown",
   "metadata": {},
   "source": [
    "### 6. What is wrong with the following program?  (5점)\n",
    "```python\n",
    "    initial_val = 10\n",
    "    while initial_val >0:\n",
    "       print(initial_val)\n",
    "       initial_val = initial_val + 1\n",
    "       if initial_val == 5:\n",
    "           break\n",
    "       print(initial_val)\n",
    "```"
   ]
  },
  {
   "cell_type": "markdown",
   "metadata": {},
   "source": [
    "### 7. About range()  (5점)"
   ]
  },
  {
   "cell_type": "markdown",
   "metadata": {},
   "source": [
    "#### 7-1. What sequence is generated by the function range(5)? \n",
    "##### range(5) = range(a,b) = range(c,d,e) : a,b,c,d,e?\n",
    "\n",
    "#### 7-2. Why won’t the following lines of code work as intended? range(15,1)를 2가지 방법으로 변경하시오ㅁ\n",
    "```python\n",
    "for i in range(15, 1):\n",
    "    print(i)\n",
    "```"
   ]
  },
  {
   "cell_type": "markdown",
   "metadata": {},
   "source": [
    "### 8. Simplify the following code (use for)  (5점)\n",
    "#### 8.1\n",
    "```python\n",
    "musketeers = [\"Athos\", \"Porthos\", \"Aramis\", \"D'Artagnan\"] \n",
    "    for i in musketeers\n",
    "        print(i)\n",
    "```\n",
    "#### 8.2\n",
    "```python\n",
    "(x > 10) and (x <= 20)\n",
    "```\n",
    "#### 8.3\n",
    "````python\n",
    "not(10 < x <= 20) # not이 없는 표현으로\n",
    "``` "
   ]
  },
  {
   "cell_type": "markdown",
   "metadata": {},
   "source": [
    "### 9. What is the output of the following lines of code?  (5점)\n",
    "```python\n",
    "n = 7\n",
    "for i in range(n):\n",
    "    print(i, end=\" \") \n",
    "    n = 3\n",
    "```"
   ]
  },
  {
   "cell_type": "markdown",
   "metadata": {},
   "source": [
    "### 10. Write a program that reads an integer from the user. Then your program should display a message indicating whether the integer is even or odd. (5점)"
   ]
  },
  {
   "cell_type": "markdown",
   "metadata": {},
   "source": [
    "### 11. 중첩된(nested) for를 사용하여 구구단을 출력하는 코드를 작성하시오. (5점)"
   ]
  },
  {
   "cell_type": "code",
   "execution_count": null,
   "metadata": {
    "collapsed": true
   },
   "outputs": [],
   "source": [
    "for i in range(10):\n",
    "    for j in range(10):\n",
    "        print(i, 'x', j, '=', i*j)"
   ]
  },
  {
   "cell_type": "markdown",
   "metadata": {},
   "source": [
    "### 12. A string is a palindrome if it is identical forward and backward. For example “anna”, “civic”, “level” and “hannah” are all examples of palindromic words. Write a program that reads a string from the user and uses a loop to determines whether or not it is a palindrome. Display the result, including a meaningful output message.\n",
    "\n",
    "#### (시험문제 예시 : 위와 같은 문제가 2 or 1문제 나올 예정임)"
   ]
  },
  {
   "cell_type": "code",
   "execution_count": null,
   "metadata": {
    "collapsed": true
   },
   "outputs": [],
   "source": []
  }
 ],
 "metadata": {
  "kernelspec": {
   "display_name": "Python 3",
   "language": "python",
   "name": "python3"
  },
  "language_info": {
   "codemirror_mode": {
    "name": "ipython",
    "version": 3
   },
   "file_extension": ".py",
   "mimetype": "text/x-python",
   "name": "python",
   "nbconvert_exporter": "python",
   "pygments_lexer": "ipython3",
   "version": "3.6.5"
  }
 },
 "nbformat": 4,
 "nbformat_minor": 2
}

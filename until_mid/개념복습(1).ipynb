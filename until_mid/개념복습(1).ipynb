{
 "cells": [
  {
   "cell_type": "markdown",
   "metadata": {},
   "source": [
    "### 선언 (Declaration)"
   ]
  },
  {
   "cell_type": "markdown",
   "metadata": {},
   "source": [
    "재사용하기 위해서 정의하는 것\n",
    "- 변수(variable) : python에서는 변수 선언만은 할 수 없음 \n",
    "- 상수(constant) : python에서는 상수 선언을 할 수 없음\n",
    "  - 재할당할 수 없는 값, 변할 수 없는 값\n",
    "- 함수(function) : def \n",
    "- 클래스(class) : class (중간고사 이후에)"
   ]
  },
  {
   "cell_type": "markdown",
   "metadata": {},
   "source": [
    "### 할당 (Assignment)"
   ]
  },
  {
   "cell_type": "markdown",
   "metadata": {},
   "source": [
    "재사용하기 위해서 값에 이름붙이는 것,  즉, 값을 기억해 두고 필요할 때 활용할 수 있음. \n",
    "할당한 것을 다시 할당하는 것을 재할당(re-assignment)라고 함\n",
    "\n",
    "- *값과 데이터는 엄밀히 말해서 다른 것이지만 통용해서 사용*\n",
    "- *값을 할당, 재할당하는 과정에서 결과를 내는 방법은 프로그래밍 방법 중 imperative paradigm의 핵심 중 하나임*\n",
    "\n",
    "**identifier = value(data)** / **이름 = 값(데이터)**\n",
    "\n",
    "- 변수 : python에서는선언과 할당이 동시에 이루어져야 함\n",
    "- 상수 : python에서는 모든 값이 변수\n",
    "- 함수\n",
    "- 클래스\n",
    "- 객체(object) : instance\n",
    "- 모듈(module)\n",
    "- 패키지(package)\n",
    "- ETC\n",
    "\n",
    "위와 같이, 다른 언어와는 달리, 모든 type을 할당, 재할당할 수 있기 때문에 python에서는 보통 식별자(identifier) 또는 이름이라고 함.\n",
    "그러나 객체지향 관점, 특히 python에서는 변수, 함수, 클래스, 객체, 모듈, 패키지 등이 모두 객체이기 때문에, 객체를 값으로 볼 수 있기 때문에 변수라고도 함\n",
    "\n",
    "\n",
    "그리고 python에서는 binding이라고도 하는데, 일반적으로 binding이라고 하는 것은 이름과 속성(값)을 연관시킨다는 의미임"
   ]
  },
  {
   "cell_type": "markdown",
   "metadata": {},
   "source": [
    "### 식별자 (identifier)\n",
    "https://docs.python.org/ko/3/reference/lexical_analysis.html#identifiers"
   ]
  },
  {
   "cell_type": "markdown",
   "metadata": {},
   "source": [
    "- 이름이 될 수 있는 문자/숫자/특수문자\n",
    "- 이름이 될 수 없는 것\n",
    "  - keyword\n",
    "- 이름에 붙여서 특별한 의미를 가지는 것 \\_\n",
    "- 이름을 짖는 방법 (PEP8)\n",
    "  - https://www.python.org/dev/peps/pep-0008/"
   ]
  },
  {
   "cell_type": "markdown",
   "metadata": {},
   "source": [
    "### 값 (Value)\n",
    "python은 객체지향 언어이기 때문에 값은 다음과 같은 3가지로 구성"
   ]
  },
  {
   "cell_type": "markdown",
   "metadata": {},
   "source": [
    "- 값이 저장되는 형태 : type\n",
    "  - type에 따라서 서로 다른 기술적인 체계가 필요 (지원하는 연산 및 기능이 다름)\n",
    "- 값이 저장되는 첫번째 메모리 주소 : id\n",
    "- 값 자체"
   ]
  },
  {
   "cell_type": "markdown",
   "metadata": {},
   "source": [
    "python에서 값을 만드는 방법은 2가지가 있음"
   ]
  },
  {
   "cell_type": "markdown",
   "metadata": {},
   "source": [
    "#### Literal\n",
    "https://docs.python.org/ko/3/reference/lexical_analysis.html#literals"
   ]
  },
  {
   "cell_type": "markdown",
   "metadata": {},
   "source": [
    "#### instance\n",
    "- type명()\n",
    "- 객체지향 배울때 더 자세히"
   ]
  },
  {
   "cell_type": "markdown",
   "metadata": {},
   "source": [
    "### 참고"
   ]
  },
  {
   "cell_type": "markdown",
   "metadata": {},
   "source": [
    "#### Dynamic Typing (동적 타이핑)\n",
    "- 명시적으로 type을 지정하지 않지만 python 자체에서 type을 할당, 재활당"
   ]
  },
  {
   "cell_type": "code",
   "execution_count": null,
   "metadata": {},
   "outputs": [],
   "source": []
  }
 ],
 "metadata": {
  "kernelspec": {
   "display_name": "Python 3",
   "language": "python",
   "name": "python3"
  },
  "language_info": {
   "codemirror_mode": {
    "name": "ipython",
    "version": 3
   },
   "file_extension": ".py",
   "mimetype": "text/x-python",
   "name": "python",
   "nbconvert_exporter": "python",
   "pygments_lexer": "ipython3",
   "version": "3.6.5"
  }
 },
 "nbformat": 4,
 "nbformat_minor": 2
}

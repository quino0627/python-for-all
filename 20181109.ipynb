{
 "cells": [
  {
   "cell_type": "code",
   "execution_count": 1,
   "metadata": {},
   "outputs": [
    {
     "data": {
      "application/json": {
       "cell": {
        "!": "OSMagics",
        "HTML": "Other",
        "SVG": "Other",
        "bash": "Other",
        "capture": "ExecutionMagics",
        "debug": "ExecutionMagics",
        "file": "Other",
        "html": "DisplayMagics",
        "javascript": "DisplayMagics",
        "js": "DisplayMagics",
        "latex": "DisplayMagics",
        "markdown": "DisplayMagics",
        "perl": "Other",
        "prun": "ExecutionMagics",
        "pypy": "Other",
        "python": "Other",
        "python2": "Other",
        "python3": "Other",
        "ruby": "Other",
        "script": "ScriptMagics",
        "sh": "Other",
        "svg": "DisplayMagics",
        "sx": "OSMagics",
        "system": "OSMagics",
        "time": "ExecutionMagics",
        "timeit": "ExecutionMagics",
        "writefile": "OSMagics"
       },
       "line": {
        "alias": "OSMagics",
        "alias_magic": "BasicMagics",
        "autocall": "AutoMagics",
        "automagic": "AutoMagics",
        "autosave": "KernelMagics",
        "bookmark": "OSMagics",
        "cat": "Other",
        "cd": "OSMagics",
        "clear": "KernelMagics",
        "colors": "BasicMagics",
        "config": "ConfigMagics",
        "connect_info": "KernelMagics",
        "cp": "Other",
        "debug": "ExecutionMagics",
        "dhist": "OSMagics",
        "dirs": "OSMagics",
        "doctest_mode": "BasicMagics",
        "ed": "Other",
        "edit": "KernelMagics",
        "env": "OSMagics",
        "gui": "BasicMagics",
        "hist": "Other",
        "history": "HistoryMagics",
        "killbgscripts": "ScriptMagics",
        "ldir": "Other",
        "less": "KernelMagics",
        "lf": "Other",
        "lk": "Other",
        "ll": "Other",
        "load": "CodeMagics",
        "load_ext": "ExtensionMagics",
        "loadpy": "CodeMagics",
        "logoff": "LoggingMagics",
        "logon": "LoggingMagics",
        "logstart": "LoggingMagics",
        "logstate": "LoggingMagics",
        "logstop": "LoggingMagics",
        "ls": "Other",
        "lsmagic": "BasicMagics",
        "lx": "Other",
        "macro": "ExecutionMagics",
        "magic": "BasicMagics",
        "man": "KernelMagics",
        "matplotlib": "PylabMagics",
        "mkdir": "Other",
        "more": "KernelMagics",
        "mv": "Other",
        "notebook": "BasicMagics",
        "page": "BasicMagics",
        "pastebin": "CodeMagics",
        "pdb": "ExecutionMagics",
        "pdef": "NamespaceMagics",
        "pdoc": "NamespaceMagics",
        "pfile": "NamespaceMagics",
        "pinfo": "NamespaceMagics",
        "pinfo2": "NamespaceMagics",
        "pip": "BasicMagics",
        "popd": "OSMagics",
        "pprint": "BasicMagics",
        "precision": "BasicMagics",
        "profile": "BasicMagics",
        "prun": "ExecutionMagics",
        "psearch": "NamespaceMagics",
        "psource": "NamespaceMagics",
        "pushd": "OSMagics",
        "pwd": "OSMagics",
        "pycat": "OSMagics",
        "pylab": "PylabMagics",
        "qtconsole": "KernelMagics",
        "quickref": "BasicMagics",
        "recall": "HistoryMagics",
        "rehashx": "OSMagics",
        "reload_ext": "ExtensionMagics",
        "rep": "Other",
        "rerun": "HistoryMagics",
        "reset": "NamespaceMagics",
        "reset_selective": "NamespaceMagics",
        "rm": "Other",
        "rmdir": "Other",
        "run": "ExecutionMagics",
        "save": "CodeMagics",
        "sc": "OSMagics",
        "set_env": "OSMagics",
        "store": "StoreMagics",
        "sx": "OSMagics",
        "system": "OSMagics",
        "tb": "ExecutionMagics",
        "time": "ExecutionMagics",
        "timeit": "ExecutionMagics",
        "unalias": "OSMagics",
        "unload_ext": "ExtensionMagics",
        "who": "NamespaceMagics",
        "who_ls": "NamespaceMagics",
        "whos": "NamespaceMagics",
        "xdel": "NamespaceMagics",
        "xmode": "BasicMagics"
       }
      },
      "text/plain": [
       "Available line magics:\n",
       "%alias  %alias_magic  %autocall  %automagic  %autosave  %bookmark  %cat  %cd  %clear  %colors  %config  %connect_info  %cp  %debug  %dhist  %dirs  %doctest_mode  %ed  %edit  %env  %gui  %hist  %history  %killbgscripts  %ldir  %less  %lf  %lk  %ll  %load  %load_ext  %loadpy  %logoff  %logon  %logstart  %logstate  %logstop  %ls  %lsmagic  %lx  %macro  %magic  %man  %matplotlib  %mkdir  %more  %mv  %notebook  %page  %pastebin  %pdb  %pdef  %pdoc  %pfile  %pinfo  %pinfo2  %popd  %pprint  %precision  %profile  %prun  %psearch  %psource  %pushd  %pwd  %pycat  %pylab  %qtconsole  %quickref  %recall  %rehashx  %reload_ext  %rep  %rerun  %reset  %reset_selective  %rm  %rmdir  %run  %save  %sc  %set_env  %store  %sx  %system  %tb  %time  %timeit  %unalias  %unload_ext  %who  %who_ls  %whos  %xdel  %xmode\n",
       "\n",
       "Available cell magics:\n",
       "%%!  %%HTML  %%SVG  %%bash  %%capture  %%debug  %%file  %%html  %%javascript  %%js  %%latex  %%markdown  %%perl  %%prun  %%pypy  %%python  %%python2  %%python3  %%ruby  %%script  %%sh  %%svg  %%sx  %%system  %%time  %%timeit  %%writefile\n",
       "\n",
       "Automagic is ON, % prefix IS NOT needed for line magics."
      ]
     },
     "execution_count": 1,
     "metadata": {},
     "output_type": "execute_result"
    }
   ],
   "source": [
    "# %가 붙어있는 것을 magin function이라고 한다.\n",
    "# 공식 파이썬 문법은 아님\n",
    "# 파이썬을 편하게 쓸 수 있게 도와줌\n",
    "# 시간 측정 같은거 했었음\n",
    "%lsmagic"
   ]
  },
  {
   "cell_type": "code",
   "execution_count": 3,
   "metadata": {},
   "outputs": [],
   "source": [
    "import keyword as k\n",
    "#keyword.kwlist\n",
    "#k.kwlist\n",
    "#두개 똑같다"
   ]
  },
  {
   "cell_type": "code",
   "execution_count": 5,
   "metadata": {},
   "outputs": [
    {
     "data": {
      "text/plain": [
       "'keyword'"
      ]
     },
     "execution_count": 5,
     "metadata": {},
     "output_type": "execute_result"
    }
   ],
   "source": [
    "k.__name__"
   ]
  },
  {
   "cell_type": "code",
   "execution_count": 2,
   "metadata": {},
   "outputs": [],
   "source": [
    "%matplotlib inline\n",
    "%matplotlib notebook\n",
    "# 두개의 차이점은 잠시 뒤에"
   ]
  },
  {
   "cell_type": "code",
   "execution_count": 7,
   "metadata": {},
   "outputs": [
    {
     "data": {
      "text/plain": [
       "[<Font 'DejaVu Sans' (DejaVuSans-Oblique.ttf) oblique normal 400 normal>,\n",
       " <Font 'DejaVu Sans Mono' (DejaVuSansMono.ttf) normal normal 400 normal>,\n",
       " <Font 'STIXSizeTwoSym' (STIXSizTwoSymReg.ttf) normal normal regular normal>,\n",
       " <Font 'STIXSizeThreeSym' (STIXSizThreeSymReg.ttf) normal normal regular normal>,\n",
       " <Font 'STIXNonUnicode' (STIXNonUniBol.ttf) normal normal bold normal>,\n",
       " <Font 'STIXGeneral' (STIXGeneral.ttf) normal normal regular normal>,\n",
       " <Font 'STIXSizeOneSym' (STIXSizOneSymBol.ttf) normal normal bold normal>,\n",
       " <Font 'DejaVu Sans Display' (DejaVuSansDisplay.ttf) normal normal 400 normal>,\n",
       " <Font 'DejaVu Sans Mono' (DejaVuSansMono-BoldOblique.ttf) oblique normal bold normal>,\n",
       " <Font 'STIXSizeOneSym' (STIXSizOneSymReg.ttf) normal normal regular normal>,\n",
       " <Font 'DejaVu Sans Mono' (DejaVuSansMono-Oblique.ttf) oblique normal 400 normal>,\n",
       " <Font 'cmsy10' (cmsy10.ttf) normal normal 400 normal>,\n",
       " <Font 'cmr10' (cmr10.ttf) normal normal 400 normal>,\n",
       " <Font 'DejaVu Serif' (DejaVuSerif-Italic.ttf) italic normal 400 normal>,\n",
       " <Font 'DejaVu Sans' (DejaVuSans-Bold.ttf) normal normal bold normal>,\n",
       " <Font 'cmtt10' (cmtt10.ttf) normal normal 400 normal>,\n",
       " <Font 'DejaVu Serif' (DejaVuSerif-Bold.ttf) normal normal bold normal>,\n",
       " <Font 'STIXSizeTwoSym' (STIXSizTwoSymBol.ttf) normal normal bold normal>,\n",
       " <Font 'STIXNonUnicode' (STIXNonUniBolIta.ttf) italic normal bold normal>,\n",
       " <Font 'STIXSizeThreeSym' (STIXSizThreeSymBol.ttf) normal normal bold normal>,\n",
       " <Font 'DejaVu Sans Mono' (DejaVuSansMono-Bold.ttf) normal normal bold normal>,\n",
       " <Font 'STIXSizeFourSym' (STIXSizFourSymReg.ttf) normal normal regular normal>,\n",
       " <Font 'STIXSizeFourSym' (STIXSizFourSymBol.ttf) normal normal bold normal>,\n",
       " <Font 'DejaVu Sans' (DejaVuSans.ttf) normal normal 400 normal>,\n",
       " <Font 'DejaVu Sans' (DejaVuSans-BoldOblique.ttf) oblique normal bold normal>,\n",
       " <Font 'DejaVu Serif' (DejaVuSerif-BoldItalic.ttf) italic normal bold normal>,\n",
       " <Font 'STIXGeneral' (STIXGeneralBolIta.ttf) italic normal bold normal>,\n",
       " <Font 'cmss10' (cmss10.ttf) normal normal 400 normal>,\n",
       " <Font 'STIXGeneral' (STIXGeneralItalic.ttf) italic normal 400 normal>,\n",
       " <Font 'DejaVu Serif' (DejaVuSerif.ttf) normal normal 400 normal>,\n",
       " <Font 'cmex10' (cmex10.ttf) normal normal 400 normal>,\n",
       " <Font 'STIXNonUnicode' (STIXNonUniIta.ttf) italic normal 400 normal>,\n",
       " <Font 'STIXNonUnicode' (STIXNonUni.ttf) normal normal regular normal>,\n",
       " <Font 'cmb10' (cmb10.ttf) normal normal 400 normal>,\n",
       " <Font 'cmmi10' (cmmi10.ttf) normal normal 400 normal>,\n",
       " <Font 'STIXSizeFiveSym' (STIXSizFiveSymReg.ttf) normal normal regular normal>,\n",
       " <Font 'DejaVu Serif Display' (DejaVuSerifDisplay.ttf) normal normal 400 normal>,\n",
       " <Font 'STIXGeneral' (STIXGeneralBol.ttf) normal normal bold normal>,\n",
       " <Font 'Lao Sangam MN' (Lao Sangam MN.ttf) normal normal 400 normal>,\n",
       " <Font 'Plantagenet Cherokee' (PlantagenetCherokee.ttf) normal normal 400 normal>,\n",
       " <Font 'System Font' (SFNSDisplay-ThinG2.otf) normal normal 400 normal>,\n",
       " <Font 'System Font' (SFNSDisplay.ttf) normal normal 400 normal>,\n",
       " <Font '.SF NS Symbols' (SFNSSymbols-Heavy.otf) normal normal 400 normal>,\n",
       " <Font 'System Font' (SFNSText.ttf) normal normal 400 normal>,\n",
       " <Font 'Webdings' (Webdings.ttf) normal normal 400 normal>,\n",
       " <Font 'Big Caslon' (BigCaslon.ttf) normal normal medium normal>,\n",
       " <Font 'STIXIntegralsSm' (STIXIntSmReg.otf) normal normal regular normal>,\n",
       " <Font 'STIXNonUnicode' (STIXNonUni.otf) normal normal regular normal>,\n",
       " <Font 'Apple Braille' (Apple Braille Outline 8 Dot.ttf) normal normal 400 normal>,\n",
       " <Font 'Wingdings' (Wingdings.ttf) normal normal 400 normal>,\n",
       " <Font '.SF NS Rounded' (SFNSRounded-Thin.otf) normal normal 400 normal>,\n",
       " <Font 'Impact' (Impact.ttf) normal normal 400 normal>,\n",
       " <Font 'Georgia' (Georgia Bold.ttf) normal normal bold normal>,\n",
       " <Font 'System Font' (SFNSDisplay-RegularItalic.otf) normal normal 400 normal>,\n",
       " <Font '.SF NS Display Condensed' (SFNSDisplayCondensed-Thin.otf) normal normal 400 normal>,\n",
       " <Font 'Times New Roman' (Times New Roman Italic.ttf) italic normal roman normal>,\n",
       " <Font 'Trebuchet MS' (Trebuchet MS.ttf) normal normal 400 normal>,\n",
       " <Font '.SF Compact Rounded' (SFCompactRounded-Regular.otf) normal normal 400 normal>,\n",
       " <Font 'System Font' (SFNSDisplay-ThinG3.otf) normal normal 400 normal>,\n",
       " <Font 'STIXIntegralsUpSm' (STIXIntUpSmBol.otf) normal normal bold normal>,\n",
       " <Font '.SF Compact Text' (SFCompactText-Heavy.otf) normal normal 400 normal>,\n",
       " <Font 'STIXGeneral' (STIXGeneralBol.otf) normal normal bold normal>,\n",
       " <Font '.SF NS Symbols' (SFNSSymbols-Bold.otf) normal normal 400 normal>,\n",
       " <Font 'STIXSizeThreeSym' (STIXSizThreeSymReg.otf) normal normal regular normal>,\n",
       " <Font '.SF Compact Text' (SFCompactText-HeavyItalic.otf) normal normal 400 normal>,\n",
       " <Font '.SF NS Rounded' (SFNSRounded-Heavy.otf) normal normal 400 normal>,\n",
       " <Font '.SF Compact Display' (SFCompactDisplay-Light.otf) normal normal 400 normal>,\n",
       " <Font 'Verdana' (Verdana Italic.ttf) italic normal 400 normal>,\n",
       " <Font 'STIXIntegralsD' (STIXIntDReg.otf) normal normal regular normal>,\n",
       " <Font 'Bodoni Ornaments' (Bodoni Ornaments.ttf) normal normal 400 normal>,\n",
       " <Font '.SF Compact Display' (SFCompactDisplay-Medium.otf) normal normal 400 normal>,\n",
       " <Font 'DIN Condensed' (DIN Condensed Bold.ttf) normal normal bold condensed>,\n",
       " <Font 'Mishafi Gold' (Mishafi Gold.ttf) normal normal regular normal>,\n",
       " <Font '.SF NS Symbols' (SFNSSymbols-Black.otf) normal normal 400 normal>,\n",
       " <Font 'STIXSizeOneSym' (STIXSizOneSymReg.otf) normal normal regular normal>,\n",
       " <Font '.SF NS Rounded' (SFNSRounded-Black.otf) normal normal 400 normal>,\n",
       " <Font 'Diwan Thuluth' (Diwan Thuluth.ttf) normal normal regular normal>,\n",
       " <Font 'STIXGeneral' (STIXGeneral.otf) normal normal regular normal>,\n",
       " <Font '.SF Compact Rounded' (SFCompactRounded-Thin.otf) normal normal 400 normal>,\n",
       " <Font '.SF NS Text Condensed' (SFNSTextCondensed-Medium.otf) normal normal 400 normal>,\n",
       " <Font 'Apple Chancery' (Apple Chancery.ttf) normal normal 400 normal>,\n",
       " <Font 'STIXSizeOneSym' (STIXSizOneSymBol.otf) normal normal bold normal>,\n",
       " <Font 'Times New Roman' (Times New Roman.ttf) normal normal roman normal>,\n",
       " <Font 'STIXIntegralsUp' (STIXIntUpReg.otf) normal normal regular normal>,\n",
       " <Font 'Courier New' (Courier New Italic.ttf) italic normal 400 normal>,\n",
       " <Font 'AppleGothic' (AppleGothic.ttf) normal normal regular normal>,\n",
       " <Font '.SF NS Display Condensed' (SFNSDisplayCondensed-Regular.otf) normal normal 400 normal>,\n",
       " <Font '.SF NS Display Condensed' (SFNSDisplayCondensed-Light.otf) normal normal 400 normal>,\n",
       " <Font '.SF Compact Display' (SFCompactDisplay-Bold.otf) normal normal 400 normal>,\n",
       " <Font 'Zapf Dingbats' (ZapfDingbats.ttf) normal normal 400 normal>,\n",
       " <Font 'Courier New' (Courier New Bold Italic.ttf) italic normal bold normal>,\n",
       " <Font 'Arial Narrow' (Arial Narrow Italic.ttf) italic normal 400 condensed>,\n",
       " <Font 'Chalkduster' (Chalkduster.ttf) normal normal 400 normal>,\n",
       " <Font 'Wingdings 3' (Wingdings 3.ttf) normal normal 400 normal>,\n",
       " <Font 'Arial Black' (Arial Black.ttf) normal normal black normal>,\n",
       " <Font '.LastResort' (LastResort.otf) normal normal 400 normal>,\n",
       " <Font 'System Font' (SFNSDisplay-SemiboldItalic.otf) normal normal 400 normal>,\n",
       " <Font '.SF Compact Text' (SFCompactText-Regular.otf) normal normal 400 normal>,\n",
       " <Font 'Trebuchet MS' (Trebuchet MS Italic.ttf) italic normal 400 normal>,\n",
       " <Font 'Apple Symbols' (Apple Symbols.ttf) normal normal 400 normal>,\n",
       " <Font 'Times New Roman' (Times New Roman Bold Italic.ttf) italic normal roman normal>,\n",
       " <Font 'Silom' (Silom.ttf) normal normal 400 normal>,\n",
       " <Font 'Trebuchet MS' (Trebuchet MS Bold Italic.ttf) italic normal bold normal>,\n",
       " <Font 'Verdana' (Verdana Bold.ttf) normal normal bold normal>,\n",
       " <Font 'Microsoft Sans Serif' (Microsoft Sans Serif.ttf) normal normal 400 normal>,\n",
       " <Font 'Wingdings 2' (Wingdings 2.ttf) normal normal 400 normal>,\n",
       " <Font '.SF NS Rounded' (SFNSRounded-Semibold.otf) normal normal 400 normal>,\n",
       " <Font '.SF Compact Display' (SFCompactDisplay-Heavy.otf) normal normal 400 normal>,\n",
       " <Font 'Arial Narrow' (Arial Narrow Bold.ttf) normal normal bold condensed>,\n",
       " <Font 'STIXSizeFourSym' (STIXSizFourSymReg.otf) normal normal regular normal>,\n",
       " <Font 'STIXNonUnicode' (STIXNonUniBolIta.otf) italic normal bold normal>,\n",
       " <Font '.SF Compact Display' (SFCompactDisplay-Thin.otf) normal normal 400 normal>,\n",
       " <Font 'Courier New' (Courier New.ttf) normal normal 400 normal>,\n",
       " <Font 'STIXGeneral' (STIXGeneralBolIta.otf) italic normal bold normal>,\n",
       " <Font 'System Font' (SFNSDisplay-ThinG4.otf) normal normal 400 normal>,\n",
       " <Font '.SF NS Text Condensed' (SFNSTextCondensed-Light.otf) normal normal 400 normal>,\n",
       " <Font '.SF NS Rounded' (SFNSRounded-Medium.otf) normal normal 400 normal>,\n",
       " <Font 'Bradley Hand' (Bradley Hand Bold.ttf) normal normal bold normal>,\n",
       " <Font 'Ayuthaya' (Ayuthaya.ttf) normal normal 400 normal>,\n",
       " <Font '.SF Compact Display' (SFCompactDisplay-Black.otf) normal normal 400 normal>,\n",
       " <Font 'Apple Braille' (Apple Braille Pinpoint 6 Dot.ttf) normal normal 400 normal>,\n",
       " <Font 'Tahoma' (Tahoma.ttf) normal normal 400 normal>,\n",
       " <Font '.Keyboard' (Keyboard.ttf) normal normal 400 normal>,\n",
       " <Font '.SF NS Symbols' (SFNSSymbols-Medium.otf) normal normal 400 normal>,\n",
       " <Font 'Skia' (Skia.ttf) normal normal 400 normal>,\n",
       " <Font 'Arial' (Arial.ttf) normal normal 400 normal>,\n",
       " <Font 'Verdana' (Verdana.ttf) normal normal 400 normal>,\n",
       " <Font 'Comic Sans MS' (Comic Sans MS Bold.ttf) normal normal bold normal>,\n",
       " <Font 'STIXNonUnicode' (STIXNonUniBol.otf) normal normal bold normal>,\n",
       " <Font 'Zapfino' (Zapfino.ttf) normal normal 400 normal>,\n",
       " <Font '.SF Compact Display' (SFCompactDisplay-Regular.otf) normal normal 400 normal>,\n",
       " <Font 'Georgia' (Georgia Italic.ttf) italic normal 400 normal>,\n",
       " <Font 'Apple Braille' (Apple Braille Outline 6 Dot.ttf) normal normal 400 normal>,\n",
       " <Font 'Meslo LG M for Powerline' (Meslo LG M Regular for Powerline.ttf) normal normal regular normal>,\n",
       " <Font 'STIXIntegralsUpD' (STIXIntUpDBol.otf) normal normal bold normal>,\n",
       " <Font 'Brush Script MT' (Brush Script.ttf) italic normal 400 normal>,\n",
       " <Font '.SF NS Display Condensed' (SFNSDisplayCondensed-Bold.otf) normal normal 400 normal>,\n",
       " <Font 'Verdana' (Verdana Bold Italic.ttf) italic normal bold normal>,\n",
       " <Font '.SF Compact Rounded' (SFCompactRounded-Medium.otf) normal normal 400 normal>,\n",
       " <Font 'Andale Mono' (Andale Mono.ttf) normal normal 400 normal>,\n",
       " <Font '.SF NS Display Condensed' (SFNSDisplayCondensed-Semibold.otf) normal normal 400 normal>,\n",
       " <Font 'Bodoni 72 Smallcaps' (Bodoni 72 Smallcaps Book.ttf) normal normal book normal>,\n",
       " <Font '.SF NS Rounded' (SFNSRounded-Regular.otf) normal normal 400 normal>,\n",
       " <Font '.SF NS Symbols' (SFNSSymbols-Ultralight.otf) normal normal 400 normal>,\n",
       " <Font 'Farisi' (Farisi.ttf) normal normal regular normal>,\n",
       " <Font 'Apple Braille' (Apple Braille Pinpoint 8 Dot.ttf) normal normal 400 normal>,\n",
       " <Font '.SF NS Display Condensed' (SFNSDisplayCondensed-Ultralight.otf) normal normal 400 normal>,\n",
       " <Font 'Times New Roman' (Times New Roman Bold.ttf) normal normal roman normal>,\n",
       " <Font '.SF NS Display Condensed' (SFNSDisplayCondensed-Black.otf) normal normal 400 normal>,\n",
       " <Font 'STIXSizeFourSym' (STIXSizFourSymBol.otf) normal normal bold normal>,\n",
       " <Font 'STIXIntegralsSm' (STIXIntSmBol.otf) normal normal bold normal>,\n",
       " <Font 'Hoefler Text' (Hoefler Text Ornaments.ttf) normal normal 400 normal>,\n",
       " <Font 'Arial Narrow' (Arial Narrow Bold Italic.ttf) italic normal bold condensed>,\n",
       " <Font '.SF Compact Text' (SFCompactText-MediumItalic.otf) normal normal 400 normal>,\n",
       " <Font '.SF NS Text Condensed' (SFNSTextCondensed-Regular.otf) normal normal 400 normal>,\n",
       " <Font 'Arial Narrow' (Arial Narrow.ttf) normal normal 400 condensed>,\n",
       " <Font 'Khmer Sangam MN' (Khmer Sangam MN.ttf) normal normal 400 normal>,\n",
       " <Font 'Georgia' (Georgia Bold Italic.ttf) italic normal bold normal>,\n",
       " <Font 'System Font' (SFNSDisplay-UltralightItalic.otf) normal normal 400 normal>,\n",
       " <Font '.SF NS Symbols' (SFNSSymbols-Light.otf) normal normal 400 normal>,\n",
       " <Font '.SF Compact Rounded' (SFCompactRounded-Bold.otf) normal normal 400 normal>,\n",
       " <Font 'Mishafi' (Mishafi.ttf) normal normal regular normal>,\n",
       " <Font '.SF NS Text Condensed' (SFNSTextCondensed-Bold.otf) normal normal 400 normal>,\n",
       " <Font '.SF Compact Text' (SFCompactText-BoldItalic.otf) normal normal 400 normal>,\n",
       " <Font 'Sathu' (Sathu.ttf) normal normal 400 normal>,\n",
       " <Font 'Krungthep' (Krungthep.ttf) normal normal 400 normal>,\n",
       " <Font 'System Font' (SFNSTextItalic.ttf) normal normal 400 normal>,\n",
       " <Font 'Georgia' (Georgia.ttf) normal normal 400 normal>,\n",
       " <Font 'Trattatello' (Trattatello.ttf) normal normal 400 normal>,\n",
       " <Font 'Tahoma' (Tahoma Bold.ttf) normal normal 700 normal>,\n",
       " <Font 'System Font' (SFNSDisplay-ThinItalic.otf) normal normal 400 normal>,\n",
       " <Font 'System Font' (SFNSDisplay-LightItalic.otf) normal normal 400 normal>,\n",
       " <Font 'Arial Rounded MT Bold' (Arial Rounded Bold.ttf) normal normal bold normal>,\n",
       " <Font 'Arial' (Arial Bold Italic.ttf) italic normal bold normal>,\n",
       " <Font 'Symbol' (Symbol.ttf) normal normal 400 normal>,\n",
       " <Font 'Arial Unicode MS' (Arial Unicode.ttf) normal normal 400 normal>,\n",
       " <Font 'STIXGeneral' (STIXGeneralItalic.otf) italic normal 400 normal>,\n",
       " <Font '.SF Compact Rounded' (SFCompactRounded-Black.otf) normal normal 400 normal>,\n",
       " <Font 'System Font' (SFNSDisplay-MediumItalic.otf) normal normal 400 normal>,\n",
       " <Font '.SF NS Display Condensed' (SFNSDisplayCondensed-Heavy.otf) normal normal 400 normal>,\n",
       " <Font 'STIXIntegralsUpD' (STIXIntUpDReg.otf) normal normal regular normal>,\n",
       " <Font 'STIXVariants' (STIXVar.otf) normal normal regular normal>,\n",
       " <Font '.SF Compact Text' (SFCompactText-LightItalic.otf) normal normal 400 normal>,\n",
       " <Font 'AppleMyungjo' (AppleMyungjo.ttf) normal normal regular normal>,\n",
       " <Font 'STIXIntegralsD' (STIXIntDBol.otf) normal normal bold normal>,\n",
       " <Font 'STIXIntegralsUp' (STIXIntUpBol.otf) normal normal bold normal>,\n",
       " <Font '.SF NS Text Condensed' (SFNSTextCondensed-Heavy.otf) normal normal 400 normal>,\n",
       " <Font 'STIXNonUnicode' (STIXNonUniIta.otf) italic normal 400 normal>,\n",
       " <Font 'STIXSizeTwoSym' (STIXSizTwoSymReg.otf) normal normal regular normal>,\n",
       " <Font 'Courier New' (Courier New Bold.ttf) normal normal bold normal>,\n",
       " <Font 'STIXVariants' (STIXVarBol.otf) normal normal bold normal>,\n",
       " <Font '.SF Compact Text' (SFCompactText-Medium.otf) normal normal 400 normal>,\n",
       " <Font 'Kokonor' (Kokonor.ttf) normal normal regular normal>,\n",
       " <Font 'Comic Sans MS' (Comic Sans MS.ttf) normal normal 400 normal>,\n",
       " <Font '.SF Compact Rounded' (SFCompactRounded-Semibold.otf) normal normal 400 normal>,\n",
       " <Font 'Trebuchet MS' (Trebuchet MS Bold.ttf) normal normal bold normal>,\n",
       " <Font 'System Font' (SFNSDisplay-BoldItalic.otf) normal normal 400 normal>,\n",
       " <Font '.SF NS Display Condensed' (SFNSDisplayCondensed-Medium.otf) normal normal 400 normal>,\n",
       " <Font 'System Font' (SFNSDisplay-ThinG1.otf) normal normal 400 normal>,\n",
       " <Font '.SF Compact Display' (SFCompactDisplay-Ultralight.otf) normal normal 400 normal>,\n",
       " <Font 'System Font' (SFNSDisplay-BlackItalic.otf) normal normal 400 normal>,\n",
       " <Font '.SF Compact Text' (SFCompactText-Semibold.otf) normal normal 400 normal>,\n",
       " <Font '.SF Compact Rounded' (SFCompactRounded-Ultralight.otf) normal normal 400 normal>,\n",
       " <Font 'Arial' (Arial Italic.ttf) italic normal 400 normal>,\n",
       " <Font 'Herculanum' (Herculanum.ttf) normal normal 400 normal>,\n",
       " <Font '.SF NS Symbols' (SFNSSymbols-Thin.otf) normal normal 400 normal>,\n",
       " <Font '.SF Compact Text' (SFCompactText-SemiboldItalic.otf) normal normal 400 normal>,\n",
       " <Font 'Apple Braille' (Apple Braille.ttf) normal normal 400 normal>,\n",
       " <Font '.SF NS Rounded' (SFNSRounded-Ultralight.otf) normal normal 400 normal>,\n",
       " <Font '.SF Compact Text' (SFCompactText-Light.otf) normal normal 400 normal>,\n",
       " <Font 'DIN Alternate' (DIN Alternate Bold.ttf) normal normal bold normal>,\n",
       " <Font '.SF Compact Rounded' (SFCompactRounded-Light.otf) normal normal 400 normal>,\n",
       " <Font 'STIXSizeThreeSym' (STIXSizThreeSymBol.otf) normal normal bold normal>,\n",
       " <Font '.SF NS Rounded' (SFNSRounded-Bold.otf) normal normal 400 normal>,\n",
       " <Font '.SF Compact Text' (SFCompactText-RegularItalic.otf) normal normal 400 normal>,\n",
       " <Font '.SF NS Rounded' (SFNSRounded-Light.otf) normal normal 400 normal>,\n",
       " <Font 'STIXIntegralsUpSm' (STIXIntUpSmReg.otf) normal normal regular normal>,\n",
       " <Font 'STIXSizeFiveSym' (STIXSizFiveSymReg.otf) normal normal regular normal>,\n",
       " <Font '.SF NS Text Condensed' (SFNSTextCondensed-Semibold.otf) normal normal 400 normal>,\n",
       " <Font '.SF Compact Text' (SFCompactText-Bold.otf) normal normal 400 normal>,\n",
       " <Font '.SF NS Symbols' (SFNSSymbols-Semibold.otf) normal normal 400 normal>,\n",
       " <Font '.SF Compact Rounded' (SFCompactRounded-Heavy.otf) normal normal 400 normal>,\n",
       " <Font 'STIXSizeTwoSym' (STIXSizTwoSymBol.otf) normal normal bold normal>,\n",
       " <Font 'Arial' (Arial Bold.ttf) normal normal bold normal>,\n",
       " <Font 'System Font' (SFNSDisplay-HeavyItalic.otf) normal normal 400 normal>,\n",
       " <Font 'Luminari' (Luminari.ttf) normal normal 400 normal>,\n",
       " <Font '.SF NS Symbols' (SFNSSymbols-Regular.otf) normal normal 400 normal>,\n",
       " <Font 'Gurmukhi MT' (Gurmukhi.ttf) normal normal 400 normal>,\n",
       " <Font '.SF Compact Display' (SFCompactDisplay-Semibold.otf) normal normal 400 normal>]"
      ]
     },
     "execution_count": 7,
     "metadata": {},
     "output_type": "execute_result"
    }
   ],
   "source": [
    "import matplotlib.font_manager as fm\n",
    "font_list = fm.fontManager.ttflist\n",
    "font_list\n",
    "#import 는 다섯 가지를 알고 있어ㅑㅇ 함\n",
    "#  폴더 형태로 되어 있고 파일이 있음 /혹은 그냥 파일 폴더일 경우 / .은 큰거 안에 작은게 있다\n",
    "# as --> ailasing\n",
    "#font list는 한글을 사용하기 위해 컴퓨터에 깔려 있는 폰트 리스트를 저장\n",
    "#"
   ]
  },
  {
   "cell_type": "code",
   "execution_count": 10,
   "metadata": {},
   "outputs": [],
   "source": [
    "import matplotlib.pyplot as plt\n",
    "\n",
    "plt.rcParams[\"font.family\"] = 'Arial Unicode MS'\n",
    "plt.rcParams[\"axes.unicode_minus\"] = False\n",
    "plt.rcParams['font.size'] = 12\n"
   ]
  },
  {
   "cell_type": "code",
   "execution_count": 11,
   "metadata": {},
   "outputs": [
    {
     "data": {
      "image/png": "[encoded data removed]",
      "text/plain": [
       "<Figure size 432x288 with 1 Axes>"
      ]
     },
     "metadata": {},
     "output_type": "display_data"
    }
   ],
   "source": [
    "plt.plot([1, 2, 3, 4])\n",
    "plt.ylabel('숫자들')\n",
    "plt.show()"
   ]
  },
  {
   "cell_type": "code",
   "execution_count": null,
   "metadata": {},
   "outputs": [],
   "source": [
    "# plt.plot\n",
    "# *args, **kwargs"
   ]
  },
  {
   "cell_type": "code",
   "execution_count": 14,
   "metadata": {},
   "outputs": [
    {
     "data": {
      "text/plain": [
       "[<matplotlib.lines.Line2D at 0x113019710>]"
      ]
     },
     "execution_count": 14,
     "metadata": {},
     "output_type": "execute_result"
    },
    {
     "data": {
      "image/png": "[encoded data removed]",
      "text/plain": [
       "<Figure size 432x288 with 1 Axes>"
      ]
     },
     "metadata": {},
     "output_type": "display_data"
    }
   ],
   "source": [
    "plt.plot([1,2,3,4]) #y값"
   ]
  },
  {
   "cell_type": "code",
   "execution_count": 15,
   "metadata": {},
   "outputs": [
    {
     "data": {
      "text/plain": [
       "[<matplotlib.lines.Line2D at 0x1130d1f28>]"
      ]
     },
     "execution_count": 15,
     "metadata": {},
     "output_type": "execute_result"
    },
    {
     "data": {
      "image/png": "[encoded data removed]",
      "text/plain": [
       "<Figure size 432x288 with 1 Axes>"
      ]
     },
     "metadata": {},
     "output_type": "display_data"
    }
   ],
   "source": [
    "plt.plot([1,2,3,4],(3,5,6,3))"
   ]
  },
  {
   "cell_type": "code",
   "execution_count": 16,
   "metadata": {},
   "outputs": [
    {
     "data": {
      "text/plain": [
       "['seaborn-dark',\n",
       " 'seaborn-darkgrid',\n",
       " 'seaborn-ticks',\n",
       " 'fivethirtyeight',\n",
       " 'seaborn-whitegrid',\n",
       " 'classic',\n",
       " '_classic_test',\n",
       " 'fast',\n",
       " 'seaborn-talk',\n",
       " 'seaborn-dark-palette',\n",
       " 'seaborn-bright',\n",
       " 'seaborn-pastel',\n",
       " 'grayscale',\n",
       " 'seaborn-notebook',\n",
       " 'ggplot',\n",
       " 'seaborn-colorblind',\n",
       " 'seaborn-muted',\n",
       " 'seaborn',\n",
       " 'Solarize_Light2',\n",
       " 'seaborn-paper',\n",
       " 'bmh',\n",
       " 'tableau-colorblind10',\n",
       " 'seaborn-white',\n",
       " 'dark_background',\n",
       " 'seaborn-poster',\n",
       " 'seaborn-deep']"
      ]
     },
     "execution_count": 16,
     "metadata": {},
     "output_type": "execute_result"
    }
   ],
   "source": [
    "plt.style.available"
   ]
  },
  {
   "cell_type": "code",
   "execution_count": 23,
   "metadata": {},
   "outputs": [],
   "source": [
    "plt.style.use('ggplot')"
   ]
  },
  {
   "cell_type": "code",
   "execution_count": 24,
   "metadata": {},
   "outputs": [
    {
     "data": {
      "text/plain": [
       "[<matplotlib.lines.Line2D at 0x1133be7f0>]"
      ]
     },
     "execution_count": 24,
     "metadata": {},
     "output_type": "execute_result"
    },
    {
     "data": {
      "image/png": "[encoded data removed]",
      "text/plain": [
       "<Figure size 432x288 with 1 Axes>"
      ]
     },
     "metadata": {},
     "output_type": "display_data"
    }
   ],
   "source": [
    "plt.plot([1,2,3,4],(3,5,6,3))"
   ]
  },
  {
   "cell_type": "code",
   "execution_count": 27,
   "metadata": {},
   "outputs": [
    {
     "data": {
      "text/plain": [
       "[<matplotlib.lines.Line2D at 0x11360d0f0>]"
      ]
     },
     "execution_count": 27,
     "metadata": {},
     "output_type": "execute_result"
    },
    {
     "data": {
      "image/png": "[encoded data removed]",
      "text/plain": [
       "<Figure size 432x288 with 1 Axes>"
      ]
     },
     "metadata": {},
     "output_type": "display_data"
    }
   ],
   "source": [
    "plt.plot([1,2,3,4],[1,4,9,16],'r+') #bo,ro,... 점\n",
    "# 별표는 가변인자인데, 포지션에 맞춰서 넣어야 한다. \n",
    "#점 모양 바꾸는 거는 세번째 인자"
   ]
  },
  {
   "cell_type": "code",
   "execution_count": 31,
   "metadata": {},
   "outputs": [
    {
     "data": {
      "text/plain": [
       "Text(0.5,0,'문근영')"
      ]
     },
     "execution_count": 31,
     "metadata": {},
     "output_type": "execute_result"
    },
    {
     "data": {
      "image/png": "[encoded data removed]",
      "text/plain": [
       "<Figure size 432x288 with 1 Axes>"
      ]
     },
     "metadata": {},
     "output_type": "display_data"
    }
   ],
   "source": [
    "plt.plot([1,2,3,4],[1,4,9,16], marker='o', color='pink') #bo,ro,... 점\n",
    "plt.xlabel('문근영')"
   ]
  },
  {
   "cell_type": "code",
   "execution_count": 32,
   "metadata": {},
   "outputs": [
    {
     "data": {
      "text/plain": [
       "(array([1., 0., 0., 1., 0., 0., 1., 0., 0., 1.]),\n",
       " array([1. , 1.3, 1.6, 1.9, 2.2, 2.5, 2.8, 3.1, 3.4, 3.7, 4. ]),\n",
       " <a list of 10 Patch objects>)"
      ]
     },
     "execution_count": 32,
     "metadata": {},
     "output_type": "execute_result"
    },
    {
     "data": {
      "image/png": "[encoded data removed]",
      "text/plain": [
       "<Figure size 432x288 with 1 Axes>"
      ]
     },
     "metadata": {},
     "output_type": "display_data"
    }
   ],
   "source": [
    "plt.hist([1,2,3,4]) # hist는 디폴트 방법으로 만들어놓아서 십다"
   ]
  },
  {
   "cell_type": "code",
   "execution_count": 33,
   "metadata": {},
   "outputs": [
    {
     "data": {
      "text/plain": [
       "<BarContainer object of 4 artists>"
      ]
     },
     "execution_count": 33,
     "metadata": {},
     "output_type": "execute_result"
    },
    {
     "data": {
      "image/png": "[encoded data removed]",
      "text/plain": [
       "<Figure size 432x288 with 1 Axes>"
      ]
     },
     "metadata": {},
     "output_type": "display_data"
    }
   ],
   "source": [
    "plt.barh([1,3,2,3],[5,3,2,10]) # 얘는 가변인자라서 설명서를 일거야 한다"
   ]
  },
  {
   "cell_type": "code",
   "execution_count": 34,
   "metadata": {},
   "outputs": [
    {
     "name": "stdout",
     "output_type": "stream",
     "text": [
      "숫자를 입력하세요lambda x:x+3\n"
     ]
    }
   ],
   "source": [
    "#선언형 프로그래밍 방식\n",
    "#끼워맞추면 컴퓨터가 해주는거\n",
    "#함수 사용하는 방식\n",
    "#끼워맞추기\n",
    "#EAFP\n",
    "\n",
    "a = eval(input(\"숫자를 입력하세요\"))"
   ]
  },
  {
   "cell_type": "code",
   "execution_count": 35,
   "metadata": {},
   "outputs": [
    {
     "data": {
      "text/plain": [
       "<function __main__.<lambda>(x)>"
      ]
     },
     "execution_count": 35,
     "metadata": {},
     "output_type": "execute_result"
    }
   ],
   "source": [
    "a"
   ]
  },
  {
   "cell_type": "code",
   "execution_count": 36,
   "metadata": {},
   "outputs": [
    {
     "data": {
      "text/plain": [
       "6"
      ]
     },
     "execution_count": 36,
     "metadata": {},
     "output_type": "execute_result"
    }
   ],
   "source": [
    "a(3) #not good\n",
    "#내부 구조를 볼 수 있는 함수를 사용할 수 있음\n",
    "#시스템 부술 가능성 있음\n",
    "#해킹할 때 사용됨"
   ]
  },
  {
   "cell_type": "code",
   "execution_count": 39,
   "metadata": {},
   "outputs": [
    {
     "name": "stdout",
     "output_type": "stream",
     "text": [
      "숫자를 입력하세요1234\n",
      "Well done\n",
      "End\n"
     ]
    }
   ],
   "source": [
    "try:\n",
    "    a = int(input(\"숫자를 입력하세요\"))\n",
    "except:\n",
    "    print(a)\n",
    "else:\n",
    "    print('Well done')\n",
    "finally:\n",
    "    print(\"End\")\n",
    "# if else\n",
    "#for else\n",
    "#while else"
   ]
  },
  {
   "cell_type": "code",
   "execution_count": 42,
   "metadata": {},
   "outputs": [
    {
     "name": "stdout",
     "output_type": "stream",
     "text": [
      "input num1234\n",
      "welldone\n",
      "1234\n"
     ]
    }
   ],
   "source": [
    "#숫자인지 아닌지 체크하는 것 들\n",
    "#a.is ~  it returns T/F\n",
    "#try밖에서도 a는 살아 있다.\n",
    "#자바에서는 다르다!\n",
    "try:\n",
    "    a = int(input(\"input num\"))\n",
    "except ValueError as e:\n",
    "    print(e)\n",
    "else:\n",
    "    print('welldone')\n",
    "print(a)"
   ]
  },
  {
   "cell_type": "code",
   "execution_count": 43,
   "metadata": {},
   "outputs": [
    {
     "name": "stdout",
     "output_type": "stream",
     "text": [
      "1234\n"
     ]
    }
   ],
   "source": [
    "#사용자가 올바르게 입력할 때 까지\n",
    "while True:\n",
    "    try:\n",
    "        a = int(input())\n",
    "    except:\n",
    "        continue\n",
    "    else:\n",
    "        break"
   ]
  },
  {
   "cell_type": "code",
   "execution_count": 44,
   "metadata": {},
   "outputs": [],
   "source": [
    "import inspect"
   ]
  },
  {
   "cell_type": "code",
   "execution_count": 48,
   "metadata": {},
   "outputs": [
    {
     "name": "stdout",
     "output_type": "stream",
     "text": [
      "@_autogen_docstring(Axes.plot)\n",
      "def plot(*args, **kwargs):\n",
      "    ax = gca()\n",
      "    # Deprecated: allow callers to override the hold state\n",
      "    # by passing hold=True|False\n",
      "    washold = ax._hold\n",
      "    hold = kwargs.pop('hold', None)\n",
      "    if hold is not None:\n",
      "        ax._hold = hold\n",
      "        from matplotlib.cbook import mplDeprecation\n",
      "        warnings.warn(\"The 'hold' keyword argument is deprecated since 2.0.\",\n",
      "                      mplDeprecation)\n",
      "    try:\n",
      "        ret = ax.plot(*args, **kwargs)\n",
      "    finally:\n",
      "        ax._hold = washold\n",
      "\n",
      "    return ret\n",
      "\n"
     ]
    }
   ],
   "source": [
    "print(inspect.getsource(plt.plot))"
   ]
  },
  {
   "cell_type": "code",
   "execution_count": null,
   "metadata": {},
   "outputs": [],
   "source": []
  }
 ],
 "metadata": {
  "kernelspec": {
   "display_name": "Python 3",
   "language": "python",
   "name": "python3"
  },
  "language_info": {
   "codemirror_mode": {
    "name": "ipython",
    "version": 3
   },
   "file_extension": ".py",
   "mimetype": "text/x-python",
   "name": "python",
   "nbconvert_exporter": "python",
   "pygments_lexer": "ipython3",
   "version": "3.6.5"
  }
 },
 "nbformat": 4,
 "nbformat_minor": 2
}
